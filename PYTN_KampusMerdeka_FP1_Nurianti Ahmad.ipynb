{
 "cells": [
  {
   "cell_type": "markdown",
   "id": "76ff2f46",
   "metadata": {},
   "source": [
    "# Introduction"
   ]
  },
  {
   "cell_type": "markdown",
   "id": "147106d3",
   "metadata": {},
   "source": [
    "## Dataset"
   ]
  },
  {
   "cell_type": "markdown",
   "id": "37324e0e",
   "metadata": {},
   "source": [
    "Database ini memiliki 57 atribut, tetapi yang paling relevan ada 10 atribut dari semuanya. Dataset ini berasal dari kaggle yaitu, Uber and Lyft Dataset Boston, MA dari 11-26-2018 hingga 12-18-2018.\n",
    "\n",
    "Mengandung banyak nilai NA, tetapi data ini sangat ramah bagi pemula. Merupakan dataset yang cocok jika menggunakan Model Regresi untuk melihat prediktor(variabel) yang berbeda seperti hour (jam) dan price (harga)."
   ]
  },
  {
   "cell_type": "markdown",
   "id": "6bcab937",
   "metadata": {},
   "source": [
    "## Tujuan"
   ]
  },
  {
   "cell_type": "markdown",
   "id": "06a92388",
   "metadata": {},
   "source": [
    "Final Project 1 ini kami buat guna untuk mengevaluasi konsep Regression sebagai berikut:\\\n",
    "● Mampu memahami konsep regression dengan Linear Regression\\\n",
    "● Mampu mempersiapkan data untuk digunakan dalam model Linear Regression\\\n",
    "● Mampu mengimplementasikan Linear Regression untuk membuat prediksi\n"
   ]
  },
  {
   "cell_type": "markdown",
   "id": "6ac443b7",
   "metadata": {},
   "source": [
    "# Import Libraries"
   ]
  },
  {
   "cell_type": "markdown",
   "id": "9958d28c",
   "metadata": {},
   "source": [
    "cell pertama pada notebook hanya berisi semua library yang digunakan dalam project."
   ]
  },
  {
   "cell_type": "code",
   "execution_count": 70,
   "id": "05c260bc",
   "metadata": {},
   "outputs": [],
   "source": [
    "import pandas as pd\n",
    "import numpy as np\n",
    "import statistics \n",
    "import statsmodels.api as sm\n",
    "import plotly.express as px\n",
    "import matplotlib.pyplot as plt\n",
    "import seaborn as sns\n",
    "import pickle\n",
    "%matplotlib inline\n",
    "\n",
    "from scipy import stats\n",
    "from sklearn import metrics\n",
    "from sklearn import preprocessing\n",
    "from sklearn.metrics import r2_score, auc\n",
    "from sklearn.metrics import accuracy_score\n",
    "from sklearn.metrics import confusion_matrix\n",
    "from sklearn.metrics import plot_confusion_matrix\n",
    "from sklearn.metrics import classification_report\n",
    "from sklearn.linear_model import LinearRegression\n",
    "from sklearn.metrics import explained_variance_score\n",
    "from sklearn.model_selection import train_test_split\n",
    "from sklearn.preprocessing import StandardScaler, LabelEncoder\n",
    "from sklearn.metrics import mean_squared_error, mean_absolute_error\n",
    "pd.options.display.max_rows = None\n",
    "pd.options.display.max_columns = None"
   ]
  },
  {
   "cell_type": "markdown",
   "id": "35d7eec3",
   "metadata": {},
   "source": [
    "# Data Loading"
   ]
  },
  {
   "cell_type": "markdown",
   "id": "d353190e",
   "metadata": {},
   "source": [
    "bagian ini berisi proses data loading."
   ]
  },
  {
   "cell_type": "code",
   "execution_count": 71,
   "id": "8f5cfa19",
   "metadata": {
    "scrolled": true
   },
   "outputs": [
    {
     "data": {
      "text/html": [
       "<div>\n",
       "<style scoped>\n",
       "    .dataframe tbody tr th:only-of-type {\n",
       "        vertical-align: middle;\n",
       "    }\n",
       "\n",
       "    .dataframe tbody tr th {\n",
       "        vertical-align: top;\n",
       "    }\n",
       "\n",
       "    .dataframe thead th {\n",
       "        text-align: right;\n",
       "    }\n",
       "</style>\n",
       "<table border=\"1\" class=\"dataframe\">\n",
       "  <thead>\n",
       "    <tr style=\"text-align: right;\">\n",
       "      <th></th>\n",
       "      <th>id</th>\n",
       "      <th>timestamp</th>\n",
       "      <th>hour</th>\n",
       "      <th>day</th>\n",
       "      <th>month</th>\n",
       "      <th>datetime</th>\n",
       "      <th>timezone</th>\n",
       "      <th>source</th>\n",
       "      <th>destination</th>\n",
       "      <th>cab_type</th>\n",
       "      <th>product_id</th>\n",
       "      <th>name</th>\n",
       "      <th>price</th>\n",
       "      <th>distance</th>\n",
       "      <th>surge_multiplier</th>\n",
       "      <th>latitude</th>\n",
       "      <th>longitude</th>\n",
       "      <th>temperature</th>\n",
       "      <th>apparentTemperature</th>\n",
       "      <th>short_summary</th>\n",
       "      <th>long_summary</th>\n",
       "      <th>precipIntensity</th>\n",
       "      <th>precipProbability</th>\n",
       "      <th>humidity</th>\n",
       "      <th>windSpeed</th>\n",
       "      <th>windGust</th>\n",
       "      <th>windGustTime</th>\n",
       "      <th>visibility</th>\n",
       "      <th>temperatureHigh</th>\n",
       "      <th>temperatureHighTime</th>\n",
       "      <th>temperatureLow</th>\n",
       "      <th>temperatureLowTime</th>\n",
       "      <th>apparentTemperatureHigh</th>\n",
       "      <th>apparentTemperatureHighTime</th>\n",
       "      <th>apparentTemperatureLow</th>\n",
       "      <th>apparentTemperatureLowTime</th>\n",
       "      <th>icon</th>\n",
       "      <th>dewPoint</th>\n",
       "      <th>pressure</th>\n",
       "      <th>windBearing</th>\n",
       "      <th>cloudCover</th>\n",
       "      <th>uvIndex</th>\n",
       "      <th>visibility.1</th>\n",
       "      <th>ozone</th>\n",
       "      <th>sunriseTime</th>\n",
       "      <th>sunsetTime</th>\n",
       "      <th>moonPhase</th>\n",
       "      <th>precipIntensityMax</th>\n",
       "      <th>uvIndexTime</th>\n",
       "      <th>temperatureMin</th>\n",
       "      <th>temperatureMinTime</th>\n",
       "      <th>temperatureMax</th>\n",
       "      <th>temperatureMaxTime</th>\n",
       "      <th>apparentTemperatureMin</th>\n",
       "      <th>apparentTemperatureMinTime</th>\n",
       "      <th>apparentTemperatureMax</th>\n",
       "      <th>apparentTemperatureMaxTime</th>\n",
       "    </tr>\n",
       "  </thead>\n",
       "  <tbody>\n",
       "    <tr>\n",
       "      <th>0</th>\n",
       "      <td>424553bb-7174-41ea-aeb4-fe06d4f4b9d7</td>\n",
       "      <td>1.544953e+09</td>\n",
       "      <td>9</td>\n",
       "      <td>16</td>\n",
       "      <td>12</td>\n",
       "      <td>2018-12-16 09:30:07</td>\n",
       "      <td>America/New_York</td>\n",
       "      <td>Haymarket Square</td>\n",
       "      <td>North Station</td>\n",
       "      <td>Lyft</td>\n",
       "      <td>lyft_line</td>\n",
       "      <td>Shared</td>\n",
       "      <td>5.0</td>\n",
       "      <td>0.44</td>\n",
       "      <td>1.0</td>\n",
       "      <td>42.2148</td>\n",
       "      <td>-71.033</td>\n",
       "      <td>42.34</td>\n",
       "      <td>37.12</td>\n",
       "      <td>Mostly Cloudy</td>\n",
       "      <td>Rain throughout the day.</td>\n",
       "      <td>0.0000</td>\n",
       "      <td>0.0</td>\n",
       "      <td>0.68</td>\n",
       "      <td>8.66</td>\n",
       "      <td>9.17</td>\n",
       "      <td>1545015600</td>\n",
       "      <td>10.000</td>\n",
       "      <td>43.68</td>\n",
       "      <td>1544968800</td>\n",
       "      <td>34.19</td>\n",
       "      <td>1545048000</td>\n",
       "      <td>37.95</td>\n",
       "      <td>1544968800</td>\n",
       "      <td>27.39</td>\n",
       "      <td>1545044400</td>\n",
       "      <td>partly-cloudy-night</td>\n",
       "      <td>32.70</td>\n",
       "      <td>1021.98</td>\n",
       "      <td>57</td>\n",
       "      <td>0.72</td>\n",
       "      <td>0</td>\n",
       "      <td>10.000</td>\n",
       "      <td>303.8</td>\n",
       "      <td>1544962084</td>\n",
       "      <td>1544994864</td>\n",
       "      <td>0.30</td>\n",
       "      <td>0.1276</td>\n",
       "      <td>1544979600</td>\n",
       "      <td>39.89</td>\n",
       "      <td>1545012000</td>\n",
       "      <td>43.68</td>\n",
       "      <td>1544968800</td>\n",
       "      <td>33.73</td>\n",
       "      <td>1545012000</td>\n",
       "      <td>38.07</td>\n",
       "      <td>1544958000</td>\n",
       "    </tr>\n",
       "    <tr>\n",
       "      <th>1</th>\n",
       "      <td>4bd23055-6827-41c6-b23b-3c491f24e74d</td>\n",
       "      <td>1.543284e+09</td>\n",
       "      <td>2</td>\n",
       "      <td>27</td>\n",
       "      <td>11</td>\n",
       "      <td>2018-11-27 02:00:23</td>\n",
       "      <td>America/New_York</td>\n",
       "      <td>Haymarket Square</td>\n",
       "      <td>North Station</td>\n",
       "      <td>Lyft</td>\n",
       "      <td>lyft_premier</td>\n",
       "      <td>Lux</td>\n",
       "      <td>11.0</td>\n",
       "      <td>0.44</td>\n",
       "      <td>1.0</td>\n",
       "      <td>42.2148</td>\n",
       "      <td>-71.033</td>\n",
       "      <td>43.58</td>\n",
       "      <td>37.35</td>\n",
       "      <td>Rain</td>\n",
       "      <td>Rain until morning, starting again in the eve...</td>\n",
       "      <td>0.1299</td>\n",
       "      <td>1.0</td>\n",
       "      <td>0.94</td>\n",
       "      <td>11.98</td>\n",
       "      <td>11.98</td>\n",
       "      <td>1543291200</td>\n",
       "      <td>4.786</td>\n",
       "      <td>47.30</td>\n",
       "      <td>1543251600</td>\n",
       "      <td>42.10</td>\n",
       "      <td>1543298400</td>\n",
       "      <td>43.92</td>\n",
       "      <td>1543251600</td>\n",
       "      <td>36.20</td>\n",
       "      <td>1543291200</td>\n",
       "      <td>rain</td>\n",
       "      <td>41.83</td>\n",
       "      <td>1003.97</td>\n",
       "      <td>90</td>\n",
       "      <td>1.00</td>\n",
       "      <td>0</td>\n",
       "      <td>4.786</td>\n",
       "      <td>291.1</td>\n",
       "      <td>1543232969</td>\n",
       "      <td>1543266992</td>\n",
       "      <td>0.64</td>\n",
       "      <td>0.1300</td>\n",
       "      <td>1543251600</td>\n",
       "      <td>40.49</td>\n",
       "      <td>1543233600</td>\n",
       "      <td>47.30</td>\n",
       "      <td>1543251600</td>\n",
       "      <td>36.20</td>\n",
       "      <td>1543291200</td>\n",
       "      <td>43.92</td>\n",
       "      <td>1543251600</td>\n",
       "    </tr>\n",
       "    <tr>\n",
       "      <th>2</th>\n",
       "      <td>981a3613-77af-4620-a42a-0c0866077d1e</td>\n",
       "      <td>1.543367e+09</td>\n",
       "      <td>1</td>\n",
       "      <td>28</td>\n",
       "      <td>11</td>\n",
       "      <td>2018-11-28 01:00:22</td>\n",
       "      <td>America/New_York</td>\n",
       "      <td>Haymarket Square</td>\n",
       "      <td>North Station</td>\n",
       "      <td>Lyft</td>\n",
       "      <td>lyft</td>\n",
       "      <td>Lyft</td>\n",
       "      <td>7.0</td>\n",
       "      <td>0.44</td>\n",
       "      <td>1.0</td>\n",
       "      <td>42.2148</td>\n",
       "      <td>-71.033</td>\n",
       "      <td>38.33</td>\n",
       "      <td>32.93</td>\n",
       "      <td>Clear</td>\n",
       "      <td>Light rain in the morning.</td>\n",
       "      <td>0.0000</td>\n",
       "      <td>0.0</td>\n",
       "      <td>0.75</td>\n",
       "      <td>7.33</td>\n",
       "      <td>7.33</td>\n",
       "      <td>1543334400</td>\n",
       "      <td>10.000</td>\n",
       "      <td>47.55</td>\n",
       "      <td>1543320000</td>\n",
       "      <td>33.10</td>\n",
       "      <td>1543402800</td>\n",
       "      <td>44.12</td>\n",
       "      <td>1543320000</td>\n",
       "      <td>29.11</td>\n",
       "      <td>1543392000</td>\n",
       "      <td>clear-night</td>\n",
       "      <td>31.10</td>\n",
       "      <td>992.28</td>\n",
       "      <td>240</td>\n",
       "      <td>0.03</td>\n",
       "      <td>0</td>\n",
       "      <td>10.000</td>\n",
       "      <td>315.7</td>\n",
       "      <td>1543319437</td>\n",
       "      <td>1543353364</td>\n",
       "      <td>0.68</td>\n",
       "      <td>0.1064</td>\n",
       "      <td>1543338000</td>\n",
       "      <td>35.36</td>\n",
       "      <td>1543377600</td>\n",
       "      <td>47.55</td>\n",
       "      <td>1543320000</td>\n",
       "      <td>31.04</td>\n",
       "      <td>1543377600</td>\n",
       "      <td>44.12</td>\n",
       "      <td>1543320000</td>\n",
       "    </tr>\n",
       "    <tr>\n",
       "      <th>3</th>\n",
       "      <td>c2d88af2-d278-4bfd-a8d0-29ca77cc5512</td>\n",
       "      <td>1.543554e+09</td>\n",
       "      <td>4</td>\n",
       "      <td>30</td>\n",
       "      <td>11</td>\n",
       "      <td>2018-11-30 04:53:02</td>\n",
       "      <td>America/New_York</td>\n",
       "      <td>Haymarket Square</td>\n",
       "      <td>North Station</td>\n",
       "      <td>Lyft</td>\n",
       "      <td>lyft_luxsuv</td>\n",
       "      <td>Lux Black XL</td>\n",
       "      <td>26.0</td>\n",
       "      <td>0.44</td>\n",
       "      <td>1.0</td>\n",
       "      <td>42.2148</td>\n",
       "      <td>-71.033</td>\n",
       "      <td>34.38</td>\n",
       "      <td>29.63</td>\n",
       "      <td>Clear</td>\n",
       "      <td>Partly cloudy throughout the day.</td>\n",
       "      <td>0.0000</td>\n",
       "      <td>0.0</td>\n",
       "      <td>0.73</td>\n",
       "      <td>5.28</td>\n",
       "      <td>5.28</td>\n",
       "      <td>1543514400</td>\n",
       "      <td>10.000</td>\n",
       "      <td>45.03</td>\n",
       "      <td>1543510800</td>\n",
       "      <td>28.90</td>\n",
       "      <td>1543579200</td>\n",
       "      <td>38.53</td>\n",
       "      <td>1543510800</td>\n",
       "      <td>26.20</td>\n",
       "      <td>1543575600</td>\n",
       "      <td>clear-night</td>\n",
       "      <td>26.64</td>\n",
       "      <td>1013.73</td>\n",
       "      <td>310</td>\n",
       "      <td>0.00</td>\n",
       "      <td>0</td>\n",
       "      <td>10.000</td>\n",
       "      <td>291.1</td>\n",
       "      <td>1543492370</td>\n",
       "      <td>1543526114</td>\n",
       "      <td>0.75</td>\n",
       "      <td>0.0000</td>\n",
       "      <td>1543507200</td>\n",
       "      <td>34.67</td>\n",
       "      <td>1543550400</td>\n",
       "      <td>45.03</td>\n",
       "      <td>1543510800</td>\n",
       "      <td>30.30</td>\n",
       "      <td>1543550400</td>\n",
       "      <td>38.53</td>\n",
       "      <td>1543510800</td>\n",
       "    </tr>\n",
       "    <tr>\n",
       "      <th>4</th>\n",
       "      <td>e0126e1f-8ca9-4f2e-82b3-50505a09db9a</td>\n",
       "      <td>1.543463e+09</td>\n",
       "      <td>3</td>\n",
       "      <td>29</td>\n",
       "      <td>11</td>\n",
       "      <td>2018-11-29 03:49:20</td>\n",
       "      <td>America/New_York</td>\n",
       "      <td>Haymarket Square</td>\n",
       "      <td>North Station</td>\n",
       "      <td>Lyft</td>\n",
       "      <td>lyft_plus</td>\n",
       "      <td>Lyft XL</td>\n",
       "      <td>9.0</td>\n",
       "      <td>0.44</td>\n",
       "      <td>1.0</td>\n",
       "      <td>42.2148</td>\n",
       "      <td>-71.033</td>\n",
       "      <td>37.44</td>\n",
       "      <td>30.88</td>\n",
       "      <td>Partly Cloudy</td>\n",
       "      <td>Mostly cloudy throughout the day.</td>\n",
       "      <td>0.0000</td>\n",
       "      <td>0.0</td>\n",
       "      <td>0.70</td>\n",
       "      <td>9.14</td>\n",
       "      <td>9.14</td>\n",
       "      <td>1543446000</td>\n",
       "      <td>10.000</td>\n",
       "      <td>42.18</td>\n",
       "      <td>1543420800</td>\n",
       "      <td>36.71</td>\n",
       "      <td>1543478400</td>\n",
       "      <td>35.75</td>\n",
       "      <td>1543420800</td>\n",
       "      <td>30.29</td>\n",
       "      <td>1543460400</td>\n",
       "      <td>partly-cloudy-night</td>\n",
       "      <td>28.61</td>\n",
       "      <td>998.36</td>\n",
       "      <td>303</td>\n",
       "      <td>0.44</td>\n",
       "      <td>0</td>\n",
       "      <td>10.000</td>\n",
       "      <td>347.7</td>\n",
       "      <td>1543405904</td>\n",
       "      <td>1543439738</td>\n",
       "      <td>0.72</td>\n",
       "      <td>0.0001</td>\n",
       "      <td>1543420800</td>\n",
       "      <td>33.10</td>\n",
       "      <td>1543402800</td>\n",
       "      <td>42.18</td>\n",
       "      <td>1543420800</td>\n",
       "      <td>29.11</td>\n",
       "      <td>1543392000</td>\n",
       "      <td>35.75</td>\n",
       "      <td>1543420800</td>\n",
       "    </tr>\n",
       "  </tbody>\n",
       "</table>\n",
       "</div>"
      ],
      "text/plain": [
       "                                     id     timestamp  hour  day  month  \\\n",
       "0  424553bb-7174-41ea-aeb4-fe06d4f4b9d7  1.544953e+09     9   16     12   \n",
       "1  4bd23055-6827-41c6-b23b-3c491f24e74d  1.543284e+09     2   27     11   \n",
       "2  981a3613-77af-4620-a42a-0c0866077d1e  1.543367e+09     1   28     11   \n",
       "3  c2d88af2-d278-4bfd-a8d0-29ca77cc5512  1.543554e+09     4   30     11   \n",
       "4  e0126e1f-8ca9-4f2e-82b3-50505a09db9a  1.543463e+09     3   29     11   \n",
       "\n",
       "              datetime          timezone            source    destination  \\\n",
       "0  2018-12-16 09:30:07  America/New_York  Haymarket Square  North Station   \n",
       "1  2018-11-27 02:00:23  America/New_York  Haymarket Square  North Station   \n",
       "2  2018-11-28 01:00:22  America/New_York  Haymarket Square  North Station   \n",
       "3  2018-11-30 04:53:02  America/New_York  Haymarket Square  North Station   \n",
       "4  2018-11-29 03:49:20  America/New_York  Haymarket Square  North Station   \n",
       "\n",
       "  cab_type    product_id          name  price  distance  surge_multiplier  \\\n",
       "0     Lyft     lyft_line        Shared    5.0      0.44               1.0   \n",
       "1     Lyft  lyft_premier           Lux   11.0      0.44               1.0   \n",
       "2     Lyft          lyft          Lyft    7.0      0.44               1.0   \n",
       "3     Lyft   lyft_luxsuv  Lux Black XL   26.0      0.44               1.0   \n",
       "4     Lyft     lyft_plus       Lyft XL    9.0      0.44               1.0   \n",
       "\n",
       "   latitude  longitude  temperature  apparentTemperature    short_summary  \\\n",
       "0   42.2148    -71.033        42.34                37.12   Mostly Cloudy    \n",
       "1   42.2148    -71.033        43.58                37.35            Rain    \n",
       "2   42.2148    -71.033        38.33                32.93           Clear    \n",
       "3   42.2148    -71.033        34.38                29.63           Clear    \n",
       "4   42.2148    -71.033        37.44                30.88   Partly Cloudy    \n",
       "\n",
       "                                        long_summary  precipIntensity  \\\n",
       "0                          Rain throughout the day.            0.0000   \n",
       "1   Rain until morning, starting again in the eve...           0.1299   \n",
       "2                        Light rain in the morning.            0.0000   \n",
       "3                 Partly cloudy throughout the day.            0.0000   \n",
       "4                 Mostly cloudy throughout the day.            0.0000   \n",
       "\n",
       "   precipProbability  humidity  windSpeed  windGust  windGustTime  visibility  \\\n",
       "0                0.0      0.68       8.66      9.17    1545015600      10.000   \n",
       "1                1.0      0.94      11.98     11.98    1543291200       4.786   \n",
       "2                0.0      0.75       7.33      7.33    1543334400      10.000   \n",
       "3                0.0      0.73       5.28      5.28    1543514400      10.000   \n",
       "4                0.0      0.70       9.14      9.14    1543446000      10.000   \n",
       "\n",
       "   temperatureHigh  temperatureHighTime  temperatureLow  temperatureLowTime  \\\n",
       "0            43.68           1544968800           34.19          1545048000   \n",
       "1            47.30           1543251600           42.10          1543298400   \n",
       "2            47.55           1543320000           33.10          1543402800   \n",
       "3            45.03           1543510800           28.90          1543579200   \n",
       "4            42.18           1543420800           36.71          1543478400   \n",
       "\n",
       "   apparentTemperatureHigh  apparentTemperatureHighTime  \\\n",
       "0                    37.95                   1544968800   \n",
       "1                    43.92                   1543251600   \n",
       "2                    44.12                   1543320000   \n",
       "3                    38.53                   1543510800   \n",
       "4                    35.75                   1543420800   \n",
       "\n",
       "   apparentTemperatureLow  apparentTemperatureLowTime                   icon  \\\n",
       "0                   27.39                  1545044400   partly-cloudy-night    \n",
       "1                   36.20                  1543291200                  rain    \n",
       "2                   29.11                  1543392000           clear-night    \n",
       "3                   26.20                  1543575600           clear-night    \n",
       "4                   30.29                  1543460400   partly-cloudy-night    \n",
       "\n",
       "   dewPoint  pressure  windBearing  cloudCover  uvIndex  visibility.1  ozone  \\\n",
       "0     32.70   1021.98           57        0.72        0        10.000  303.8   \n",
       "1     41.83   1003.97           90        1.00        0         4.786  291.1   \n",
       "2     31.10    992.28          240        0.03        0        10.000  315.7   \n",
       "3     26.64   1013.73          310        0.00        0        10.000  291.1   \n",
       "4     28.61    998.36          303        0.44        0        10.000  347.7   \n",
       "\n",
       "   sunriseTime  sunsetTime  moonPhase  precipIntensityMax  uvIndexTime  \\\n",
       "0   1544962084  1544994864       0.30              0.1276   1544979600   \n",
       "1   1543232969  1543266992       0.64              0.1300   1543251600   \n",
       "2   1543319437  1543353364       0.68              0.1064   1543338000   \n",
       "3   1543492370  1543526114       0.75              0.0000   1543507200   \n",
       "4   1543405904  1543439738       0.72              0.0001   1543420800   \n",
       "\n",
       "   temperatureMin  temperatureMinTime  temperatureMax  temperatureMaxTime  \\\n",
       "0           39.89          1545012000           43.68          1544968800   \n",
       "1           40.49          1543233600           47.30          1543251600   \n",
       "2           35.36          1543377600           47.55          1543320000   \n",
       "3           34.67          1543550400           45.03          1543510800   \n",
       "4           33.10          1543402800           42.18          1543420800   \n",
       "\n",
       "   apparentTemperatureMin  apparentTemperatureMinTime  apparentTemperatureMax  \\\n",
       "0                   33.73                  1545012000                   38.07   \n",
       "1                   36.20                  1543291200                   43.92   \n",
       "2                   31.04                  1543377600                   44.12   \n",
       "3                   30.30                  1543550400                   38.53   \n",
       "4                   29.11                  1543392000                   35.75   \n",
       "\n",
       "   apparentTemperatureMaxTime  \n",
       "0                  1544958000  \n",
       "1                  1543251600  \n",
       "2                  1543320000  \n",
       "3                  1543510800  \n",
       "4                  1543420800  "
      ]
     },
     "execution_count": 71,
     "metadata": {},
     "output_type": "execute_result"
    }
   ],
   "source": [
    "df = pd.read_csv('C:/Users/Nurianti/numpy-workshop/FP1/rideshare_kagglee.csv')\n",
    "df.head()"
   ]
  },
  {
   "cell_type": "markdown",
   "id": "5a99f136",
   "metadata": {},
   "source": [
    "# Data Cleaning"
   ]
  },
  {
   "cell_type": "markdown",
   "id": "815273bc",
   "metadata": {},
   "source": [
    "bagian ini berisi proses penyiapan data berupa data cleaning sebelum dilakukan explorasi data lebih lanjut. proses cleaning dapat berupa memberi nama baru untuk setiap kolom, mengisi missing values, menghapus kolom yang tidak dipakai, dan lain sebagainya."
   ]
  },
  {
   "cell_type": "code",
   "execution_count": 72,
   "id": "1747b799",
   "metadata": {
    "scrolled": true
   },
   "outputs": [
    {
     "data": {
      "text/plain": [
       "(693071, 57)"
      ]
     },
     "execution_count": 72,
     "metadata": {},
     "output_type": "execute_result"
    }
   ],
   "source": [
    "#melihat dimensi data\n",
    "\n",
    "df.shape"
   ]
  },
  {
   "cell_type": "markdown",
   "id": "4b53fe52",
   "metadata": {},
   "source": [
    "dari output diatas, dapat dilihat bahwa data ini berjumlah 69.3071 baris dan 57 kolom. lalu, akan dilanjutkan untuk melihat tipe data pada kolom."
   ]
  },
  {
   "cell_type": "code",
   "execution_count": 73,
   "id": "480be572",
   "metadata": {},
   "outputs": [
    {
     "name": "stdout",
     "output_type": "stream",
     "text": [
      "<class 'pandas.core.frame.DataFrame'>\n",
      "RangeIndex: 693071 entries, 0 to 693070\n",
      "Data columns (total 57 columns):\n",
      " #   Column                       Non-Null Count   Dtype  \n",
      "---  ------                       --------------   -----  \n",
      " 0   id                           693071 non-null  object \n",
      " 1   timestamp                    693071 non-null  float64\n",
      " 2   hour                         693071 non-null  int64  \n",
      " 3   day                          693071 non-null  int64  \n",
      " 4   month                        693071 non-null  int64  \n",
      " 5   datetime                     693071 non-null  object \n",
      " 6   timezone                     693071 non-null  object \n",
      " 7   source                       693071 non-null  object \n",
      " 8   destination                  693071 non-null  object \n",
      " 9   cab_type                     693071 non-null  object \n",
      " 10  product_id                   693071 non-null  object \n",
      " 11  name                         693071 non-null  object \n",
      " 12  price                        637976 non-null  float64\n",
      " 13  distance                     693071 non-null  float64\n",
      " 14  surge_multiplier             693071 non-null  float64\n",
      " 15  latitude                     693071 non-null  float64\n",
      " 16  longitude                    693071 non-null  float64\n",
      " 17  temperature                  693071 non-null  float64\n",
      " 18  apparentTemperature          693071 non-null  float64\n",
      " 19  short_summary                693071 non-null  object \n",
      " 20  long_summary                 693071 non-null  object \n",
      " 21  precipIntensity              693071 non-null  float64\n",
      " 22  precipProbability            693071 non-null  float64\n",
      " 23  humidity                     693071 non-null  float64\n",
      " 24  windSpeed                    693071 non-null  float64\n",
      " 25  windGust                     693071 non-null  float64\n",
      " 26  windGustTime                 693071 non-null  int64  \n",
      " 27  visibility                   693071 non-null  float64\n",
      " 28  temperatureHigh              693071 non-null  float64\n",
      " 29  temperatureHighTime          693071 non-null  int64  \n",
      " 30  temperatureLow               693071 non-null  float64\n",
      " 31  temperatureLowTime           693071 non-null  int64  \n",
      " 32  apparentTemperatureHigh      693071 non-null  float64\n",
      " 33  apparentTemperatureHighTime  693071 non-null  int64  \n",
      " 34  apparentTemperatureLow       693071 non-null  float64\n",
      " 35  apparentTemperatureLowTime   693071 non-null  int64  \n",
      " 36  icon                         693071 non-null  object \n",
      " 37  dewPoint                     693071 non-null  float64\n",
      " 38  pressure                     693071 non-null  float64\n",
      " 39  windBearing                  693071 non-null  int64  \n",
      " 40  cloudCover                   693071 non-null  float64\n",
      " 41  uvIndex                      693071 non-null  int64  \n",
      " 42  visibility.1                 693071 non-null  float64\n",
      " 43  ozone                        693071 non-null  float64\n",
      " 44  sunriseTime                  693071 non-null  int64  \n",
      " 45  sunsetTime                   693071 non-null  int64  \n",
      " 46  moonPhase                    693071 non-null  float64\n",
      " 47  precipIntensityMax           693071 non-null  float64\n",
      " 48  uvIndexTime                  693071 non-null  int64  \n",
      " 49  temperatureMin               693071 non-null  float64\n",
      " 50  temperatureMinTime           693071 non-null  int64  \n",
      " 51  temperatureMax               693071 non-null  float64\n",
      " 52  temperatureMaxTime           693071 non-null  int64  \n",
      " 53  apparentTemperatureMin       693071 non-null  float64\n",
      " 54  apparentTemperatureMinTime   693071 non-null  int64  \n",
      " 55  apparentTemperatureMax       693071 non-null  float64\n",
      " 56  apparentTemperatureMaxTime   693071 non-null  int64  \n",
      "dtypes: float64(29), int64(17), object(11)\n",
      "memory usage: 301.4+ MB\n"
     ]
    }
   ],
   "source": [
    "#melihat tipe data pada kolom\n",
    "\n",
    "df.info()"
   ]
  },
  {
   "cell_type": "markdown",
   "id": "4ca99399",
   "metadata": {},
   "source": [
    "dari output diatas, dapat dilihat bahwa kolom \"datetime\" masih bertipe object sehingga perlu dilakukan konversi tipe data menjadi date time. lalu, akan dilanjutkan mengubah tipe data kolom \"datetime\""
   ]
  },
  {
   "cell_type": "code",
   "execution_count": 74,
   "id": "794ad83c",
   "metadata": {},
   "outputs": [],
   "source": [
    "#ubah tipe data pada kolom \"datetime\"\n",
    "\n",
    "df['datetime'] = pd.to_datetime(df['datetime'])"
   ]
  },
  {
   "cell_type": "markdown",
   "id": "a5a6629c",
   "metadata": {},
   "source": [
    "Setelah itu dilanjutkan akan dilakukan pengecekan apakah ada missing value pada data tersebut."
   ]
  },
  {
   "cell_type": "code",
   "execution_count": 75,
   "id": "2682ff8e",
   "metadata": {
    "scrolled": false
   },
   "outputs": [
    {
     "data": {
      "text/plain": [
       "id                                 0\n",
       "timestamp                          0\n",
       "hour                               0\n",
       "day                                0\n",
       "month                              0\n",
       "datetime                           0\n",
       "timezone                           0\n",
       "source                             0\n",
       "destination                        0\n",
       "cab_type                           0\n",
       "product_id                         0\n",
       "name                               0\n",
       "price                          55095\n",
       "distance                           0\n",
       "surge_multiplier                   0\n",
       "latitude                           0\n",
       "longitude                          0\n",
       "temperature                        0\n",
       "apparentTemperature                0\n",
       "short_summary                      0\n",
       "long_summary                       0\n",
       "precipIntensity                    0\n",
       "precipProbability                  0\n",
       "humidity                           0\n",
       "windSpeed                          0\n",
       "windGust                           0\n",
       "windGustTime                       0\n",
       "visibility                         0\n",
       "temperatureHigh                    0\n",
       "temperatureHighTime                0\n",
       "temperatureLow                     0\n",
       "temperatureLowTime                 0\n",
       "apparentTemperatureHigh            0\n",
       "apparentTemperatureHighTime        0\n",
       "apparentTemperatureLow             0\n",
       "apparentTemperatureLowTime         0\n",
       "icon                               0\n",
       "dewPoint                           0\n",
       "pressure                           0\n",
       "windBearing                        0\n",
       "cloudCover                         0\n",
       "uvIndex                            0\n",
       "visibility.1                       0\n",
       "ozone                              0\n",
       "sunriseTime                        0\n",
       "sunsetTime                         0\n",
       "moonPhase                          0\n",
       "precipIntensityMax                 0\n",
       "uvIndexTime                        0\n",
       "temperatureMin                     0\n",
       "temperatureMinTime                 0\n",
       "temperatureMax                     0\n",
       "temperatureMaxTime                 0\n",
       "apparentTemperatureMin             0\n",
       "apparentTemperatureMinTime         0\n",
       "apparentTemperatureMax             0\n",
       "apparentTemperatureMaxTime         0\n",
       "dtype: int64"
      ]
     },
     "execution_count": 75,
     "metadata": {},
     "output_type": "execute_result"
    }
   ],
   "source": [
    "#cek missing value\n",
    "\n",
    "df.isnull().sum()"
   ]
  },
  {
   "cell_type": "markdown",
   "id": "dd90b90f",
   "metadata": {},
   "source": [
    "dari output diatas, dapat dilihat bahwa kolom \"price\" memiliki missing value. maka akan dilakukan cleaning data agar data kolom tersebut dapat digunakan."
   ]
  },
  {
   "cell_type": "code",
   "execution_count": 76,
   "id": "ec58d7e6",
   "metadata": {
    "scrolled": true
   },
   "outputs": [
    {
     "data": {
      "text/plain": [
       "id                             0\n",
       "timestamp                      0\n",
       "hour                           0\n",
       "day                            0\n",
       "month                          0\n",
       "datetime                       0\n",
       "timezone                       0\n",
       "source                         0\n",
       "destination                    0\n",
       "cab_type                       0\n",
       "product_id                     0\n",
       "name                           0\n",
       "price                          0\n",
       "distance                       0\n",
       "surge_multiplier               0\n",
       "latitude                       0\n",
       "longitude                      0\n",
       "temperature                    0\n",
       "apparentTemperature            0\n",
       "short_summary                  0\n",
       "long_summary                   0\n",
       "precipIntensity                0\n",
       "precipProbability              0\n",
       "humidity                       0\n",
       "windSpeed                      0\n",
       "windGust                       0\n",
       "windGustTime                   0\n",
       "visibility                     0\n",
       "temperatureHigh                0\n",
       "temperatureHighTime            0\n",
       "temperatureLow                 0\n",
       "temperatureLowTime             0\n",
       "apparentTemperatureHigh        0\n",
       "apparentTemperatureHighTime    0\n",
       "apparentTemperatureLow         0\n",
       "apparentTemperatureLowTime     0\n",
       "icon                           0\n",
       "dewPoint                       0\n",
       "pressure                       0\n",
       "windBearing                    0\n",
       "cloudCover                     0\n",
       "uvIndex                        0\n",
       "visibility.1                   0\n",
       "ozone                          0\n",
       "sunriseTime                    0\n",
       "sunsetTime                     0\n",
       "moonPhase                      0\n",
       "precipIntensityMax             0\n",
       "uvIndexTime                    0\n",
       "temperatureMin                 0\n",
       "temperatureMinTime             0\n",
       "temperatureMax                 0\n",
       "temperatureMaxTime             0\n",
       "apparentTemperatureMin         0\n",
       "apparentTemperatureMinTime     0\n",
       "apparentTemperatureMax         0\n",
       "apparentTemperatureMaxTime     0\n",
       "dtype: int64"
      ]
     },
     "execution_count": 76,
     "metadata": {},
     "output_type": "execute_result"
    }
   ],
   "source": [
    "#cleaning data pada kolom \"price\"\n",
    "\n",
    "df = df[df['price'].notnull()]\n",
    "df.isnull().sum()"
   ]
  },
  {
   "cell_type": "markdown",
   "id": "b5da8ed5",
   "metadata": {},
   "source": [
    "setelah dilakukan cleaning data pada kolom \"price\" sudah tidak terdapat missing value lagi. sehingga, langkah selanjutnya menghitung jumlah datanya."
   ]
  },
  {
   "cell_type": "code",
   "execution_count": 77,
   "id": "71daeddc",
   "metadata": {
    "scrolled": false
   },
   "outputs": [
    {
     "data": {
      "text/plain": [
       "(637976, 57)"
      ]
     },
     "execution_count": 77,
     "metadata": {},
     "output_type": "execute_result"
    }
   ],
   "source": [
    "#melihat dimensi data\n",
    "\n",
    "df.shape"
   ]
  },
  {
   "cell_type": "markdown",
   "id": "11b2a2f1",
   "metadata": {},
   "source": [
    "dari output diatas, dapat dilihat bahwa jumlah data sekarang sebesar 63.7976 dimana sebelumnya berjumlah 69.3071. sehingga data ini dapat digunakan, maka akan dilanjutkan ke tahap eksplorasi data."
   ]
  },
  {
   "cell_type": "markdown",
   "id": "ede27d1e",
   "metadata": {},
   "source": [
    "# Eksplorasi Data"
   ]
  },
  {
   "cell_type": "markdown",
   "id": "f01a0d77",
   "metadata": {},
   "source": [
    "bagian ini berisi eksplorasi pada dataset diatas dengan menggunakan query, grouping, visualisasi sederhana, dan lain sebagainya."
   ]
  },
  {
   "cell_type": "markdown",
   "id": "9db20b5d",
   "metadata": {},
   "source": [
    "## Analisis Waktu"
   ]
  },
  {
   "cell_type": "markdown",
   "id": "69d7de16",
   "metadata": {},
   "source": [
    "bagian ini berisikan analisis waktu berdasarkan tanggal dan jam."
   ]
  },
  {
   "cell_type": "markdown",
   "id": "0b0b71a6",
   "metadata": {},
   "source": [
    "### Berdasarkan Tanggal"
   ]
  },
  {
   "cell_type": "markdown",
   "id": "5fb03438",
   "metadata": {},
   "source": []
  },
  {
   "cell_type": "code",
   "execution_count": 78,
   "id": "d13c53b6",
   "metadata": {
    "scrolled": true
   },
   "outputs": [
    {
     "data": {
      "image/png": "[encoded data removed]",
      "text/plain": [
       "<Figure size 360x360 with 1 Axes>"
      ]
     },
     "metadata": {
      "needs_background": "light"
     },
     "output_type": "display_data"
    }
   ],
   "source": [
    "#plot jumlah pesanan taksi berdasarkan tanggal\n",
    "\n",
    "df_day = df.pivot_table(\n",
    "    index='day',\n",
    "    values='id',\n",
    "    aggfunc='count'\n",
    ")\n",
    "df_day.rename(columns={'id':'cab order count'}, inplace=True)\n",
    "df_day.plot(kind='bar', color='mediumturquoise', figsize=(5, 5), legend=None)\n",
    "plt.title('Jumlah Pesanan Taksi Berdasarkan Tanggal')\n",
    "plt.ylabel('Jumlah Pesanan')\n",
    "plt.xlabel('Tanggal')\n",
    "plt.show()"
   ]
  },
  {
   "cell_type": "markdown",
   "id": "ef41f624",
   "metadata": {},
   "source": [
    "**interpretasi**\n",
    "\n",
    "berdasarkan plot diatas, dapat dilihat bahwa ada beberapa data tanggal yang kosong seperti pada tanggal 5-8, 11-12, dan 19-25."
   ]
  },
  {
   "cell_type": "code",
   "execution_count": 79,
   "id": "c1b667e7",
   "metadata": {
    "scrolled": true
   },
   "outputs": [
    {
     "data": {
      "image/png": "[encoded data removed]",
      "text/plain": [
       "<Figure size 360x360 with 1 Axes>"
      ]
     },
     "metadata": {
      "needs_background": "light"
     },
     "output_type": "display_data"
    }
   ],
   "source": [
    "#plot mean harga taksi berdasarkan tanggal\n",
    "\n",
    "df_day = df.pivot_table(\n",
    "    index='day',\n",
    "    values='price',\n",
    "    aggfunc=np.mean\n",
    ")\n",
    "df_day.plot(kind='bar', color='mediumturquoise', figsize=(5, 5), legend=None)\n",
    "plt.title('Mean Harga Taksi Berdasarkan Tanggal')\n",
    "plt.ylabel('Harga')\n",
    "plt.xlabel('Tanggal')\n",
    "plt.show()"
   ]
  },
  {
   "cell_type": "markdown",
   "id": "2609558b",
   "metadata": {},
   "source": [
    "**interpretasi**\n",
    "\n",
    "berdasarkan plot diatas, dapat dilihat bahwa mean harga taksi berdasarkan tanggal hampir bernilai sama diatas 16."
   ]
  },
  {
   "cell_type": "markdown",
   "id": "46c2fcd8",
   "metadata": {},
   "source": [
    "### Berdasarkan Jam"
   ]
  },
  {
   "cell_type": "code",
   "execution_count": 80,
   "id": "d3eed7b2",
   "metadata": {
    "scrolled": true
   },
   "outputs": [
    {
     "data": {
      "image/png": "[encoded data removed]",
      "text/plain": [
       "<Figure size 360x360 with 1 Axes>"
      ]
     },
     "metadata": {
      "needs_background": "light"
     },
     "output_type": "display_data"
    }
   ],
   "source": [
    "#plot jumlah pesanan taksi berdasarkan jam\n",
    "\n",
    "df_hour = df.pivot_table(\n",
    "    index='hour',\n",
    "    values='id',\n",
    "    aggfunc='count'\n",
    ")\n",
    "df_hour.rename(columns={'id':'cab order count'}, inplace=True)\n",
    "df_hour.plot(kind='bar', color='mediumturquoise', figsize=(5, 5), legend=None)\n",
    "plt.title('Jumlah Pesanan Taksi Berdasarkan Jam')\n",
    "plt.ylabel('Order Count')\n",
    "plt.xlabel('Hours')\n",
    "plt.show()"
   ]
  },
  {
   "cell_type": "markdown",
   "id": "ebdad184",
   "metadata": {},
   "source": [
    "**interpretasi**\n",
    "\n",
    "berdasarkan plot diatas, dapat dilihat bahwa jumlah pesanan taksi tertinggi ada pada jam 23.00 - 00.00."
   ]
  },
  {
   "cell_type": "code",
   "execution_count": 81,
   "id": "efd7e82f",
   "metadata": {},
   "outputs": [
    {
     "data": {
      "image/png": "[encoded data removed]",
      "text/plain": [
       "<Figure size 360x360 with 1 Axes>"
      ]
     },
     "metadata": {
      "needs_background": "light"
     },
     "output_type": "display_data"
    }
   ],
   "source": [
    "#plot variance taksi berdasarkan jam\n",
    "\n",
    "df_hour = df.pivot_table(\n",
    "    index='hour',\n",
    "    values='price',\n",
    "    aggfunc=statistics.variance\n",
    ")\n",
    "df_hour.plot(kind='bar', color='mediumturquoise', figsize=(5, 5), legend=None)\n",
    "plt.title('Variance Harga Taksi Berdasarkan Jam')\n",
    "plt.ylabel('Harga')\n",
    "plt.xlabel('Jam')\n",
    "plt.show()"
   ]
  },
  {
   "cell_type": "markdown",
   "id": "835fcde3",
   "metadata": {},
   "source": [
    "**interpretasi**\n",
    "\n",
    "berdasarkan output diatas, dapat dilihat bahwa variance harga taksi berdasarkan jam tidak memiliki perbedaan harga yang signifikan."
   ]
  },
  {
   "cell_type": "markdown",
   "id": "90dea4c9",
   "metadata": {},
   "source": [
    "## Analisis Sumber & Destinasi"
   ]
  },
  {
   "cell_type": "markdown",
   "id": "bd343bed",
   "metadata": {},
   "source": [
    "bagian ini berisikan analisis sumber dan destinasi berdasarkan jumlah pesanan taksi."
   ]
  },
  {
   "cell_type": "code",
   "execution_count": 82,
   "id": "5737da64",
   "metadata": {},
   "outputs": [
    {
     "data": {
      "image/png": "[encoded data removed]",
      "text/plain": [
       "<Figure size 360x360 with 1 Axes>"
      ]
     },
     "metadata": {
      "needs_background": "light"
     },
     "output_type": "display_data"
    }
   ],
   "source": [
    "#plot jumlah pesanan taksi berdasarkan sumber\n",
    "\n",
    "df_source = df.pivot_table(\n",
    "    index='source',\n",
    "    values='id',\n",
    "    aggfunc='count'\n",
    ")\n",
    "\n",
    "df_source.plot(kind='bar', color='plum', figsize=(5, 5), legend=None)\n",
    "plt.title('Jumlah Pesanan Taksi Berdasarkan Sumber')\n",
    "plt.ylabel('Jumlah Pesanan')\n",
    "plt.xlabel('Sumber')\n",
    "plt.show()\n"
   ]
  },
  {
   "cell_type": "markdown",
   "id": "75d821af",
   "metadata": {},
   "source": [
    "**interpretasi**\n",
    "\n",
    "berdasarkan plot diatas, dapat dilihat bahwa jumlah pesanan taksi berdasarkan sumber hampir memiliki jumlah pesanan yang sama."
   ]
  },
  {
   "cell_type": "code",
   "execution_count": 83,
   "id": "364035df",
   "metadata": {},
   "outputs": [
    {
     "data": {
      "image/png": "[encoded data removed]",
      "text/plain": [
       "<Figure size 360x360 with 1 Axes>"
      ]
     },
     "metadata": {
      "needs_background": "light"
     },
     "output_type": "display_data"
    }
   ],
   "source": [
    "#plot jumlah pesanan taksi berdasarkan destinasi\n",
    "\n",
    "df_destinasi = df.pivot_table(\n",
    "    index='source',\n",
    "    values='id',\n",
    "    aggfunc='count'\n",
    ")\n",
    "\n",
    "df_destinasi.plot(kind='bar', color='plum', figsize=(5, 5), legend=None)\n",
    "plt.title('Jumlah Pesanan Taksi Berdasarkan Destinasi')\n",
    "plt.ylabel('Jumlah Pesanan')\n",
    "plt.xlabel('Destinasi')\n",
    "plt.show()"
   ]
  },
  {
   "cell_type": "markdown",
   "id": "d3016b41",
   "metadata": {},
   "source": [
    "**interpretasi**\n",
    "\n",
    "berdasarkan plot diatas, dapat dilihat bahwa jumlah pesanan taksi berdasarkan destinasi hampir memiliki jumlah pesanan yang sama."
   ]
  },
  {
   "cell_type": "markdown",
   "id": "4b574131",
   "metadata": {},
   "source": [
    "## Analisis Tipe Taksi "
   ]
  },
  {
   "cell_type": "markdown",
   "id": "d026c253",
   "metadata": {},
   "source": [
    "bagian ini berisikan analisis jumlah pesanan dan mean harga berdasarkan tipe taksi."
   ]
  },
  {
   "cell_type": "code",
   "execution_count": 84,
   "id": "d61b6b57",
   "metadata": {
    "scrolled": true
   },
   "outputs": [
    {
     "data": {
      "image/png": "[encoded data removed]",
      "text/plain": [
       "<Figure size 360x360 with 1 Axes>"
      ]
     },
     "metadata": {
      "needs_background": "light"
     },
     "output_type": "display_data"
    }
   ],
   "source": [
    "#plot jumlah pesanan taksi berdasarkan tipe taksi\n",
    "\n",
    "df_type = df.pivot_table(\n",
    "    index='cab_type',\n",
    "    values='id',\n",
    "    aggfunc='count',\n",
    ")\n",
    "\n",
    "df_type.plot(kind='bar', color='cornflowerblue',figsize=(5, 5), legend=None)\n",
    "plt.title('Jumlah Pesanan Taksi Berdasarkan Tipe Taksi')\n",
    "plt.ylabel('Jumlah Pesanan')\n",
    "plt.xlabel('Tipe Taksi')\n",
    "plt.show()"
   ]
  },
  {
   "cell_type": "markdown",
   "id": "0d68b43e",
   "metadata": {},
   "source": [
    "**interpretasi**\n",
    "\n",
    "berdasarkan plot diatas, dapat dilihat bahwa tipe taksi Uber memiliki jumlah pesanan taksi tertinggi dibandingkan dengan tipe taksi Lyft."
   ]
  },
  {
   "cell_type": "code",
   "execution_count": 85,
   "id": "03c4b201",
   "metadata": {
    "scrolled": true
   },
   "outputs": [
    {
     "data": {
      "image/png": "[encoded data removed]",
      "text/plain": [
       "<Figure size 360x360 with 1 Axes>"
      ]
     },
     "metadata": {
      "needs_background": "light"
     },
     "output_type": "display_data"
    }
   ],
   "source": [
    "#plot mean harga berdasarkan tipe taksi\n",
    "\n",
    "df_mtype = df.pivot_table(\n",
    "    index='cab_type',\n",
    "    values='price',\n",
    "    aggfunc='mean'\n",
    ")\n",
    "\n",
    "df_mtype.plot(kind='bar', color='cornflowerblue', figsize=(5, 5), legend=None)\n",
    "plt.title('Mean Harga Taksi Berdasarkan Tipe Taksi')\n",
    "plt.ylabel('Harga')\n",
    "plt.xlabel('Tipe Taksi')\n",
    "plt.show()"
   ]
  },
  {
   "cell_type": "markdown",
   "id": "5047e336",
   "metadata": {},
   "source": [
    "**interpretasi**\n",
    "\n",
    "berdasarkan plot diatas, dapat dilihat bahwa tipe taksi Lyft memiliki mean harga taksi tertinggi sedangkan Uber memiliki mean harga taksi terendah."
   ]
  },
  {
   "cell_type": "markdown",
   "id": "7d03f4a4",
   "metadata": {},
   "source": [
    "## Analisis Tipe Kendaraan"
   ]
  },
  {
   "cell_type": "markdown",
   "id": "fb9a5581",
   "metadata": {},
   "source": [
    "bagian ini berisikan analisis mean harga berdasarkan tipe kendaraan."
   ]
  },
  {
   "cell_type": "code",
   "execution_count": 86,
   "id": "98bfd117",
   "metadata": {},
   "outputs": [
    {
     "data": {
      "text/html": [
       "<div>\n",
       "<style scoped>\n",
       "    .dataframe tbody tr th:only-of-type {\n",
       "        vertical-align: middle;\n",
       "    }\n",
       "\n",
       "    .dataframe tbody tr th {\n",
       "        vertical-align: top;\n",
       "    }\n",
       "\n",
       "    .dataframe thead th {\n",
       "        text-align: right;\n",
       "    }\n",
       "</style>\n",
       "<table border=\"1\" class=\"dataframe\">\n",
       "  <thead>\n",
       "    <tr style=\"text-align: right;\">\n",
       "      <th></th>\n",
       "      <th>price</th>\n",
       "    </tr>\n",
       "    <tr>\n",
       "      <th>name</th>\n",
       "      <th></th>\n",
       "    </tr>\n",
       "  </thead>\n",
       "  <tbody>\n",
       "    <tr>\n",
       "      <th>Black</th>\n",
       "      <td>20.523786</td>\n",
       "    </tr>\n",
       "    <tr>\n",
       "      <th>Black SUV</th>\n",
       "      <td>30.286763</td>\n",
       "    </tr>\n",
       "    <tr>\n",
       "      <th>Lux</th>\n",
       "      <td>17.771240</td>\n",
       "    </tr>\n",
       "    <tr>\n",
       "      <th>Lux Black</th>\n",
       "      <td>23.062468</td>\n",
       "    </tr>\n",
       "    <tr>\n",
       "      <th>Lux Black XL</th>\n",
       "      <td>32.324086</td>\n",
       "    </tr>\n",
       "    <tr>\n",
       "      <th>Lyft</th>\n",
       "      <td>9.610885</td>\n",
       "    </tr>\n",
       "    <tr>\n",
       "      <th>Lyft XL</th>\n",
       "      <td>15.309363</td>\n",
       "    </tr>\n",
       "    <tr>\n",
       "      <th>Shared</th>\n",
       "      <td>6.029893</td>\n",
       "    </tr>\n",
       "    <tr>\n",
       "      <th>UberPool</th>\n",
       "      <td>8.752500</td>\n",
       "    </tr>\n",
       "    <tr>\n",
       "      <th>UberX</th>\n",
       "      <td>9.765074</td>\n",
       "    </tr>\n",
       "    <tr>\n",
       "      <th>UberXL</th>\n",
       "      <td>15.678144</td>\n",
       "    </tr>\n",
       "    <tr>\n",
       "      <th>WAV</th>\n",
       "      <td>9.765019</td>\n",
       "    </tr>\n",
       "  </tbody>\n",
       "</table>\n",
       "</div>"
      ],
      "text/plain": [
       "                  price\n",
       "name                   \n",
       "Black         20.523786\n",
       "Black SUV     30.286763\n",
       "Lux           17.771240\n",
       "Lux Black     23.062468\n",
       "Lux Black XL  32.324086\n",
       "Lyft           9.610885\n",
       "Lyft XL       15.309363\n",
       "Shared         6.029893\n",
       "UberPool       8.752500\n",
       "UberX          9.765074\n",
       "UberXL        15.678144\n",
       "WAV            9.765019"
      ]
     },
     "execution_count": 86,
     "metadata": {},
     "output_type": "execute_result"
    }
   ],
   "source": [
    "df_tipetaksi = df.pivot_table(\n",
    "    index='name',\n",
    "    values='price',\n",
    "    aggfunc='mean'\n",
    ")\n",
    "\n",
    "df_tipetaksi"
   ]
  },
  {
   "cell_type": "code",
   "execution_count": 87,
   "id": "f20aa9a5",
   "metadata": {
    "scrolled": false
   },
   "outputs": [
    {
     "data": {
      "image/png": "[encoded data removed]",
      "text/plain": [
       "<Figure size 360x360 with 1 Axes>"
      ]
     },
     "metadata": {
      "needs_background": "light"
     },
     "output_type": "display_data"
    }
   ],
   "source": [
    "#plot mean harga berdasarkan tipe kendaraan\n",
    "\n",
    "df_tipetaksi.plot(kind='bar', color='y', figsize=(5, 5), legend=None)\n",
    "plt.title('Mean Harga Taksi Berdasarkan Tipe Kendaraan')\n",
    "plt.ylabel('Harga')\n",
    "plt.xlabel('Tipe')\n",
    "plt.show()"
   ]
  },
  {
   "cell_type": "markdown",
   "id": "18f7f4c6",
   "metadata": {},
   "source": [
    "**interpretasi**\n",
    "\n",
    "berdasarkan plot dan tabel diatas, dapat dilihat bahwa tipe kendaraan termahal adalah Lux Black XL dengan mean harga perjalanannya sebesar 32.324086 dan tipe kendaraan termurahnya adalah Shared dengan mean harga perjalannya sebesar 6.029893."
   ]
  },
  {
   "cell_type": "markdown",
   "id": "d8754db7",
   "metadata": {},
   "source": [
    "# Correlation"
   ]
  },
  {
   "cell_type": "markdown",
   "id": "baaa8734",
   "metadata": {},
   "source": [
    "pada bagian ini akan dilihat korelasi disetiap kolom, kemudian akan dipilih kolom yang memiliki korelasi baik untuk digunakan dalam model linier regression."
   ]
  },
  {
   "cell_type": "code",
   "execution_count": 88,
   "id": "2219534f",
   "metadata": {},
   "outputs": [
    {
     "data": {
      "image/png": "[encoded data removed]",
      "text/plain": [
       "<Figure size 1800x1800 with 2 Axes>"
      ]
     },
     "metadata": {
      "needs_background": "light"
     },
     "output_type": "display_data"
    }
   ],
   "source": [
    "#melihat korelasi pada data kolom yang bertipe numerik\n",
    "\n",
    "num_col_list = df.columns[(df.dtypes == 'int64') | (df.dtypes == 'float64')].to_list()\n",
    "plt.figure(figsize = (25,25))\n",
    "sns.heatmap(df[num_col_list].corr(), cmap=\"RdBu_r\", linewidths=.5)\n",
    "plt.title(\"Correlation Matrix\", fontsize=20)\n",
    "plt.show()"
   ]
  },
  {
   "cell_type": "code",
   "execution_count": 89,
   "id": "d3ccf608",
   "metadata": {
    "scrolled": false
   },
   "outputs": [
    {
     "data": {
      "image/png": "[encoded data removed]",
      "text/plain": [
       "<Figure size 1800x1800 with 2 Axes>"
      ]
     },
     "metadata": {
      "needs_background": "light"
     },
     "output_type": "display_data"
    }
   ],
   "source": [
    "#melihat korelasi pada data kolom yang bertipe kategorik\n",
    "\n",
    "df_temp = df.copy()\n",
    "cat_col_list = df_temp.columns[(df_temp.dtypes == 'object')].to_list()\n",
    "for col in cat_col_list:\n",
    "    df_temp[col] = preprocessing.LabelEncoder().fit_transform(df_temp[col])\n",
    "plt.figure(figsize = (25,25))\n",
    "cat_col_list.append('price')\n",
    "sns.heatmap(df_temp[cat_col_list].corr(), cmap=\"RdBu_r\", linewidths=.5)\n",
    "plt.title(\"Correlation Matrix\", fontsize=20)\n",
    "plt.show()"
   ]
  },
  {
   "cell_type": "code",
   "execution_count": 90,
   "id": "6163f8bf",
   "metadata": {},
   "outputs": [
    {
     "data": {
      "text/plain": [
       "price                          1.000000\n",
       "distance                       0.345061\n",
       "surge_multiplier               0.240458\n",
       "product_id                     0.102679\n",
       "icon                           0.002100\n",
       "latitude                       0.002088\n",
       "visibility.1                   0.001497\n",
       "visibility                     0.001497\n",
       "short_summary                  0.001245\n",
       "windGust                       0.001218\n",
       "id                             0.001137\n",
       "precipIntensityMax             0.001114\n",
       "windSpeed                      0.000990\n",
       "month                          0.000913\n",
       "cloudCover                     0.000883\n",
       "pressure                       0.000866\n",
       "windGustTime                   0.000851\n",
       "apparentTemperatureLow         0.000831\n",
       "apparentTemperatureMinTime     0.000814\n",
       "timestamp                      0.000808\n",
       "temperatureMinTime             0.000769\n",
       "temperatureMaxTime             0.000766\n",
       "uvIndexTime                    0.000763\n",
       "apparentTemperatureLowTime     0.000761\n",
       "sunsetTime                     0.000760\n",
       "sunriseTime                    0.000760\n",
       "temperatureHighTime            0.000759\n",
       "temperatureLowTime             0.000754\n",
       "apparentTemperatureMaxTime     0.000746\n",
       "apparentTemperatureHighTime    0.000741\n",
       "hour                           0.000561\n",
       "ozone                          0.000460\n",
       "long_summary                   0.000396\n",
       "temperatureLow                 0.000182\n",
       "precipIntensity                0.000166\n",
       "temperature                   -0.000084\n",
       "apparentTemperature           -0.000193\n",
       "precipProbability             -0.000243\n",
       "apparentTemperatureHigh       -0.000261\n",
       "apparentTemperatureMax        -0.000290\n",
       "uvIndex                       -0.000424\n",
       "temperatureMin                -0.000428\n",
       "temperatureHigh               -0.000516\n",
       "temperatureMax                -0.000550\n",
       "apparentTemperatureMin        -0.000580\n",
       "dewPoint                      -0.000615\n",
       "day                           -0.000722\n",
       "humidity                      -0.001238\n",
       "windBearing                   -0.001382\n",
       "longitude                     -0.001417\n",
       "moonPhase                     -0.001602\n",
       "source                        -0.025366\n",
       "destination                   -0.046320\n",
       "cab_type                      -0.083385\n",
       "name                          -0.586644\n",
       "timezone                            NaN\n",
       "Name: price, dtype: float64"
      ]
     },
     "execution_count": 90,
     "metadata": {},
     "output_type": "execute_result"
    }
   ],
   "source": [
    "#melihat nilai korelasi setiap kolom\n",
    "#dengan mengurutkan nilai korelasi dari yang paling besar (strong positif) sampai (Strong negatif) terhadap kolom 'price' \n",
    "\n",
    "df_temp.corr()['price'].sort_values(ascending=False)"
   ]
  },
  {
   "cell_type": "markdown",
   "id": "ec2fe118",
   "metadata": {},
   "source": [
    "**interpretasi**\n",
    "\n",
    "berdasarkan output korelasi diatas, dapat dilihat bahwa kolom yang paling berpengaruh terhadap harga adalah:\n",
    "\n",
    "1. distance dengan korelasi 0.345061\n",
    "2. surge_multiplier dengan korelasi 0.240458\n",
    "3. product_id dengan korelasi 0.102679\n",
    "4. cab_type dengan korelasi -0.083385\n",
    "5. name dengan korelasi -0.586644"
   ]
  },
  {
   "cell_type": "markdown",
   "id": "59cea7e1",
   "metadata": {},
   "source": [
    "# Pre-processing"
   ]
  },
  {
   "cell_type": "markdown",
   "id": "30f1ee7c",
   "metadata": {},
   "source": [
    "bagian ini berisi proses penyiapan data untuk proses pelatihan model, seperti pembagian data menjadi train-dev-test, transformasi data (normalisasi, encoding, dll.), dan proses-proses lain yang dibutuhkan."
   ]
  },
  {
   "cell_type": "code",
   "execution_count": 91,
   "id": "23ef4170",
   "metadata": {
    "scrolled": true
   },
   "outputs": [
    {
     "data": {
      "text/html": [
       "<div>\n",
       "<style scoped>\n",
       "    .dataframe tbody tr th:only-of-type {\n",
       "        vertical-align: middle;\n",
       "    }\n",
       "\n",
       "    .dataframe tbody tr th {\n",
       "        vertical-align: top;\n",
       "    }\n",
       "\n",
       "    .dataframe thead th {\n",
       "        text-align: right;\n",
       "    }\n",
       "</style>\n",
       "<table border=\"1\" class=\"dataframe\">\n",
       "  <thead>\n",
       "    <tr style=\"text-align: right;\">\n",
       "      <th></th>\n",
       "      <th>cab_type</th>\n",
       "      <th>product_id</th>\n",
       "      <th>name</th>\n",
       "      <th>price</th>\n",
       "      <th>distance</th>\n",
       "      <th>surge_multiplier</th>\n",
       "    </tr>\n",
       "  </thead>\n",
       "  <tbody>\n",
       "    <tr>\n",
       "      <th>0</th>\n",
       "      <td>Lyft</td>\n",
       "      <td>lyft_line</td>\n",
       "      <td>Shared</td>\n",
       "      <td>5.0</td>\n",
       "      <td>0.44</td>\n",
       "      <td>1.0</td>\n",
       "    </tr>\n",
       "    <tr>\n",
       "      <th>1</th>\n",
       "      <td>Lyft</td>\n",
       "      <td>lyft_premier</td>\n",
       "      <td>Lux</td>\n",
       "      <td>11.0</td>\n",
       "      <td>0.44</td>\n",
       "      <td>1.0</td>\n",
       "    </tr>\n",
       "    <tr>\n",
       "      <th>2</th>\n",
       "      <td>Lyft</td>\n",
       "      <td>lyft</td>\n",
       "      <td>Lyft</td>\n",
       "      <td>7.0</td>\n",
       "      <td>0.44</td>\n",
       "      <td>1.0</td>\n",
       "    </tr>\n",
       "    <tr>\n",
       "      <th>3</th>\n",
       "      <td>Lyft</td>\n",
       "      <td>lyft_luxsuv</td>\n",
       "      <td>Lux Black XL</td>\n",
       "      <td>26.0</td>\n",
       "      <td>0.44</td>\n",
       "      <td>1.0</td>\n",
       "    </tr>\n",
       "    <tr>\n",
       "      <th>4</th>\n",
       "      <td>Lyft</td>\n",
       "      <td>lyft_plus</td>\n",
       "      <td>Lyft XL</td>\n",
       "      <td>9.0</td>\n",
       "      <td>0.44</td>\n",
       "      <td>1.0</td>\n",
       "    </tr>\n",
       "  </tbody>\n",
       "</table>\n",
       "</div>"
      ],
      "text/plain": [
       "  cab_type    product_id          name  price  distance  surge_multiplier\n",
       "0     Lyft     lyft_line        Shared    5.0      0.44               1.0\n",
       "1     Lyft  lyft_premier           Lux   11.0      0.44               1.0\n",
       "2     Lyft          lyft          Lyft    7.0      0.44               1.0\n",
       "3     Lyft   lyft_luxsuv  Lux Black XL   26.0      0.44               1.0\n",
       "4     Lyft     lyft_plus       Lyft XL    9.0      0.44               1.0"
      ]
     },
     "execution_count": 91,
     "metadata": {},
     "output_type": "execute_result"
    }
   ],
   "source": [
    "#memilih kolom yang akan digunakan berdasarkan hasil korelasi sebelumnya\n",
    "\n",
    "df_new = df[['cab_type', 'product_id', 'name', 'price', 'distance', 'surge_multiplier']]\n",
    "df_new.head()"
   ]
  },
  {
   "cell_type": "markdown",
   "id": "f205b69e",
   "metadata": {},
   "source": [
    "berdasarkan tabel diatas, dapat dilihat bahwa data terbaru berisi 6 kolom yang akan digunakan untuk pemodelan linear regression"
   ]
  },
  {
   "cell_type": "code",
   "execution_count": 92,
   "id": "e7674ed0",
   "metadata": {
    "scrolled": false
   },
   "outputs": [
    {
     "name": "stderr",
     "output_type": "stream",
     "text": [
      "C:\\Users\\Nurianti\\AppData\\Local\\Temp/ipykernel_2540/2973335733.py:4: SettingWithCopyWarning: \n",
      "A value is trying to be set on a copy of a slice from a DataFrame.\n",
      "Try using .loc[row_indexer,col_indexer] = value instead\n",
      "\n",
      "See the caveats in the documentation: https://pandas.pydata.org/pandas-docs/stable/user_guide/indexing.html#returning-a-view-versus-a-copy\n",
      "  df_new['cab_type'] = label.fit_transform(df_new['cab_type'])\n",
      "C:\\Users\\Nurianti\\AppData\\Local\\Temp/ipykernel_2540/2973335733.py:5: SettingWithCopyWarning: \n",
      "A value is trying to be set on a copy of a slice from a DataFrame.\n",
      "Try using .loc[row_indexer,col_indexer] = value instead\n",
      "\n",
      "See the caveats in the documentation: https://pandas.pydata.org/pandas-docs/stable/user_guide/indexing.html#returning-a-view-versus-a-copy\n",
      "  df_new['product_id'] = label.fit_transform(df_new['product_id'])\n",
      "C:\\Users\\Nurianti\\AppData\\Local\\Temp/ipykernel_2540/2973335733.py:6: SettingWithCopyWarning: \n",
      "A value is trying to be set on a copy of a slice from a DataFrame.\n",
      "Try using .loc[row_indexer,col_indexer] = value instead\n",
      "\n",
      "See the caveats in the documentation: https://pandas.pydata.org/pandas-docs/stable/user_guide/indexing.html#returning-a-view-versus-a-copy\n",
      "  df_new['name'] = label.fit_transform(df_new['name'])\n"
     ]
    }
   ],
   "source": [
    "#encode data kategorik menjadi numerik\n",
    "\n",
    "label = LabelEncoder()\n",
    "df_new['cab_type'] = label.fit_transform(df_new['cab_type'])\n",
    "df_new['product_id'] = label.fit_transform(df_new['product_id'])\n",
    "df_new['name'] = label.fit_transform(df_new['name'])"
   ]
  },
  {
   "cell_type": "markdown",
   "id": "c8055360",
   "metadata": {},
   "source": [
    "setelah dilakukan encode data dari kategorik menjadi numerik, langkah selajutnya akan melihat kembali tabel datanya."
   ]
  },
  {
   "cell_type": "code",
   "execution_count": 93,
   "id": "6b24910e",
   "metadata": {
    "scrolled": true
   },
   "outputs": [
    {
     "data": {
      "text/html": [
       "<div>\n",
       "<style scoped>\n",
       "    .dataframe tbody tr th:only-of-type {\n",
       "        vertical-align: middle;\n",
       "    }\n",
       "\n",
       "    .dataframe tbody tr th {\n",
       "        vertical-align: top;\n",
       "    }\n",
       "\n",
       "    .dataframe thead th {\n",
       "        text-align: right;\n",
       "    }\n",
       "</style>\n",
       "<table border=\"1\" class=\"dataframe\">\n",
       "  <thead>\n",
       "    <tr style=\"text-align: right;\">\n",
       "      <th></th>\n",
       "      <th>cab_type</th>\n",
       "      <th>product_id</th>\n",
       "      <th>name</th>\n",
       "      <th>price</th>\n",
       "      <th>distance</th>\n",
       "      <th>surge_multiplier</th>\n",
       "    </tr>\n",
       "  </thead>\n",
       "  <tbody>\n",
       "    <tr>\n",
       "      <th>0</th>\n",
       "      <td>0</td>\n",
       "      <td>7</td>\n",
       "      <td>7</td>\n",
       "      <td>5.0</td>\n",
       "      <td>0.44</td>\n",
       "      <td>1.0</td>\n",
       "    </tr>\n",
       "    <tr>\n",
       "      <th>1</th>\n",
       "      <td>0</td>\n",
       "      <td>11</td>\n",
       "      <td>2</td>\n",
       "      <td>11.0</td>\n",
       "      <td>0.44</td>\n",
       "      <td>1.0</td>\n",
       "    </tr>\n",
       "    <tr>\n",
       "      <th>2</th>\n",
       "      <td>0</td>\n",
       "      <td>6</td>\n",
       "      <td>5</td>\n",
       "      <td>7.0</td>\n",
       "      <td>0.44</td>\n",
       "      <td>1.0</td>\n",
       "    </tr>\n",
       "    <tr>\n",
       "      <th>3</th>\n",
       "      <td>0</td>\n",
       "      <td>9</td>\n",
       "      <td>4</td>\n",
       "      <td>26.0</td>\n",
       "      <td>0.44</td>\n",
       "      <td>1.0</td>\n",
       "    </tr>\n",
       "    <tr>\n",
       "      <th>4</th>\n",
       "      <td>0</td>\n",
       "      <td>10</td>\n",
       "      <td>6</td>\n",
       "      <td>9.0</td>\n",
       "      <td>0.44</td>\n",
       "      <td>1.0</td>\n",
       "    </tr>\n",
       "  </tbody>\n",
       "</table>\n",
       "</div>"
      ],
      "text/plain": [
       "   cab_type  product_id  name  price  distance  surge_multiplier\n",
       "0         0           7     7    5.0      0.44               1.0\n",
       "1         0          11     2   11.0      0.44               1.0\n",
       "2         0           6     5    7.0      0.44               1.0\n",
       "3         0           9     4   26.0      0.44               1.0\n",
       "4         0          10     6    9.0      0.44               1.0"
      ]
     },
     "execution_count": 93,
     "metadata": {},
     "output_type": "execute_result"
    }
   ],
   "source": [
    "#melihat data\n",
    "df_new.head()"
   ]
  },
  {
   "cell_type": "markdown",
   "id": "086d5e7c",
   "metadata": {},
   "source": [
    "berdasarkan tabel diatas, dapat dilihat bahwa semua data sudah bertipe numerik. selanjutnya kita akan membuat variabel dummy."
   ]
  },
  {
   "cell_type": "code",
   "execution_count": 94,
   "id": "e75ab1b9",
   "metadata": {},
   "outputs": [],
   "source": [
    "#deklarasi variabel fitur \"X\" dan variabel target \"y\"\n",
    "#variabel fitur yaitu 'cab_type', 'product_id', 'name', 'distance', 'surge_multiplier'\n",
    "#variabel target yaitu 'y'\n",
    "\n",
    "X = df[['cab_type', 'product_id', 'name', 'distance', 'surge_multiplier']]\n",
    "y = df['price']"
   ]
  },
  {
   "cell_type": "markdown",
   "id": "6f7adb80",
   "metadata": {},
   "source": [
    "setelah mendeklarasikan tiap variabel, maka selanjutnya akan dibuat variabel dummy."
   ]
  },
  {
   "cell_type": "code",
   "execution_count": 95,
   "id": "3aea5e68",
   "metadata": {},
   "outputs": [
    {
     "data": {
      "text/plain": [
       "6f72dfc5-27f1-42e8-84db-ccc7a75f6969    55096\n",
       "9a0e7b09-b92b-4c41-9779-2ad22b4d779d    55096\n",
       "6d318bcc-22a3-4af6-bddd-b409bfce1546    55096\n",
       "6c84fd89-3f11-4782-9b50-97c468b19529    55095\n",
       "55c66225-fbe7-4fd5-9072-eab1ece5e23e    55094\n",
       "997acbb5-e102-41e1-b155-9df7de0a73f2    55091\n",
       "lyft_premier                            51235\n",
       "lyft                                    51235\n",
       "lyft_luxsuv                             51235\n",
       "lyft_plus                               51235\n",
       "lyft_lux                                51235\n",
       "lyft_line                               51233\n",
       "Name: product_id, dtype: int64"
      ]
     },
     "execution_count": 95,
     "metadata": {},
     "output_type": "execute_result"
    }
   ],
   "source": [
    "X['product_id'].value_counts()"
   ]
  },
  {
   "cell_type": "code",
   "execution_count": 96,
   "id": "27b28e75",
   "metadata": {
    "scrolled": false
   },
   "outputs": [
    {
     "data": {
      "text/html": [
       "<div>\n",
       "<style scoped>\n",
       "    .dataframe tbody tr th:only-of-type {\n",
       "        vertical-align: middle;\n",
       "    }\n",
       "\n",
       "    .dataframe tbody tr th {\n",
       "        vertical-align: top;\n",
       "    }\n",
       "\n",
       "    .dataframe thead th {\n",
       "        text-align: right;\n",
       "    }\n",
       "</style>\n",
       "<table border=\"1\" class=\"dataframe\">\n",
       "  <thead>\n",
       "    <tr style=\"text-align: right;\">\n",
       "      <th></th>\n",
       "      <th>distance</th>\n",
       "      <th>surge_multiplier</th>\n",
       "      <th>cab_type_Lyft</th>\n",
       "      <th>cab_type_Uber</th>\n",
       "      <th>product_id_55c66225-fbe7-4fd5-9072-eab1ece5e23e</th>\n",
       "      <th>product_id_6c84fd89-3f11-4782-9b50-97c468b19529</th>\n",
       "      <th>product_id_6d318bcc-22a3-4af6-bddd-b409bfce1546</th>\n",
       "      <th>product_id_6f72dfc5-27f1-42e8-84db-ccc7a75f6969</th>\n",
       "      <th>product_id_997acbb5-e102-41e1-b155-9df7de0a73f2</th>\n",
       "      <th>product_id_9a0e7b09-b92b-4c41-9779-2ad22b4d779d</th>\n",
       "      <th>product_id_lyft</th>\n",
       "      <th>product_id_lyft_line</th>\n",
       "      <th>product_id_lyft_lux</th>\n",
       "      <th>product_id_lyft_luxsuv</th>\n",
       "      <th>product_id_lyft_plus</th>\n",
       "      <th>product_id_lyft_premier</th>\n",
       "      <th>name_Black</th>\n",
       "      <th>name_Black SUV</th>\n",
       "      <th>name_Lux</th>\n",
       "      <th>name_Lux Black</th>\n",
       "      <th>name_Lux Black XL</th>\n",
       "      <th>name_Lyft</th>\n",
       "      <th>name_Lyft XL</th>\n",
       "      <th>name_Shared</th>\n",
       "      <th>name_UberPool</th>\n",
       "      <th>name_UberX</th>\n",
       "      <th>name_UberXL</th>\n",
       "      <th>name_WAV</th>\n",
       "    </tr>\n",
       "  </thead>\n",
       "  <tbody>\n",
       "    <tr>\n",
       "      <th>0</th>\n",
       "      <td>0.44</td>\n",
       "      <td>1.0</td>\n",
       "      <td>1</td>\n",
       "      <td>0</td>\n",
       "      <td>0</td>\n",
       "      <td>0</td>\n",
       "      <td>0</td>\n",
       "      <td>0</td>\n",
       "      <td>0</td>\n",
       "      <td>0</td>\n",
       "      <td>0</td>\n",
       "      <td>1</td>\n",
       "      <td>0</td>\n",
       "      <td>0</td>\n",
       "      <td>0</td>\n",
       "      <td>0</td>\n",
       "      <td>0</td>\n",
       "      <td>0</td>\n",
       "      <td>0</td>\n",
       "      <td>0</td>\n",
       "      <td>0</td>\n",
       "      <td>0</td>\n",
       "      <td>0</td>\n",
       "      <td>1</td>\n",
       "      <td>0</td>\n",
       "      <td>0</td>\n",
       "      <td>0</td>\n",
       "      <td>0</td>\n",
       "    </tr>\n",
       "    <tr>\n",
       "      <th>1</th>\n",
       "      <td>0.44</td>\n",
       "      <td>1.0</td>\n",
       "      <td>1</td>\n",
       "      <td>0</td>\n",
       "      <td>0</td>\n",
       "      <td>0</td>\n",
       "      <td>0</td>\n",
       "      <td>0</td>\n",
       "      <td>0</td>\n",
       "      <td>0</td>\n",
       "      <td>0</td>\n",
       "      <td>0</td>\n",
       "      <td>0</td>\n",
       "      <td>0</td>\n",
       "      <td>0</td>\n",
       "      <td>1</td>\n",
       "      <td>0</td>\n",
       "      <td>0</td>\n",
       "      <td>1</td>\n",
       "      <td>0</td>\n",
       "      <td>0</td>\n",
       "      <td>0</td>\n",
       "      <td>0</td>\n",
       "      <td>0</td>\n",
       "      <td>0</td>\n",
       "      <td>0</td>\n",
       "      <td>0</td>\n",
       "      <td>0</td>\n",
       "    </tr>\n",
       "    <tr>\n",
       "      <th>2</th>\n",
       "      <td>0.44</td>\n",
       "      <td>1.0</td>\n",
       "      <td>1</td>\n",
       "      <td>0</td>\n",
       "      <td>0</td>\n",
       "      <td>0</td>\n",
       "      <td>0</td>\n",
       "      <td>0</td>\n",
       "      <td>0</td>\n",
       "      <td>0</td>\n",
       "      <td>1</td>\n",
       "      <td>0</td>\n",
       "      <td>0</td>\n",
       "      <td>0</td>\n",
       "      <td>0</td>\n",
       "      <td>0</td>\n",
       "      <td>0</td>\n",
       "      <td>0</td>\n",
       "      <td>0</td>\n",
       "      <td>0</td>\n",
       "      <td>0</td>\n",
       "      <td>1</td>\n",
       "      <td>0</td>\n",
       "      <td>0</td>\n",
       "      <td>0</td>\n",
       "      <td>0</td>\n",
       "      <td>0</td>\n",
       "      <td>0</td>\n",
       "    </tr>\n",
       "    <tr>\n",
       "      <th>3</th>\n",
       "      <td>0.44</td>\n",
       "      <td>1.0</td>\n",
       "      <td>1</td>\n",
       "      <td>0</td>\n",
       "      <td>0</td>\n",
       "      <td>0</td>\n",
       "      <td>0</td>\n",
       "      <td>0</td>\n",
       "      <td>0</td>\n",
       "      <td>0</td>\n",
       "      <td>0</td>\n",
       "      <td>0</td>\n",
       "      <td>0</td>\n",
       "      <td>1</td>\n",
       "      <td>0</td>\n",
       "      <td>0</td>\n",
       "      <td>0</td>\n",
       "      <td>0</td>\n",
       "      <td>0</td>\n",
       "      <td>0</td>\n",
       "      <td>1</td>\n",
       "      <td>0</td>\n",
       "      <td>0</td>\n",
       "      <td>0</td>\n",
       "      <td>0</td>\n",
       "      <td>0</td>\n",
       "      <td>0</td>\n",
       "      <td>0</td>\n",
       "    </tr>\n",
       "    <tr>\n",
       "      <th>4</th>\n",
       "      <td>0.44</td>\n",
       "      <td>1.0</td>\n",
       "      <td>1</td>\n",
       "      <td>0</td>\n",
       "      <td>0</td>\n",
       "      <td>0</td>\n",
       "      <td>0</td>\n",
       "      <td>0</td>\n",
       "      <td>0</td>\n",
       "      <td>0</td>\n",
       "      <td>0</td>\n",
       "      <td>0</td>\n",
       "      <td>0</td>\n",
       "      <td>0</td>\n",
       "      <td>1</td>\n",
       "      <td>0</td>\n",
       "      <td>0</td>\n",
       "      <td>0</td>\n",
       "      <td>0</td>\n",
       "      <td>0</td>\n",
       "      <td>0</td>\n",
       "      <td>0</td>\n",
       "      <td>1</td>\n",
       "      <td>0</td>\n",
       "      <td>0</td>\n",
       "      <td>0</td>\n",
       "      <td>0</td>\n",
       "      <td>0</td>\n",
       "    </tr>\n",
       "  </tbody>\n",
       "</table>\n",
       "</div>"
      ],
      "text/plain": [
       "   distance  surge_multiplier  cab_type_Lyft  cab_type_Uber  \\\n",
       "0      0.44               1.0              1              0   \n",
       "1      0.44               1.0              1              0   \n",
       "2      0.44               1.0              1              0   \n",
       "3      0.44               1.0              1              0   \n",
       "4      0.44               1.0              1              0   \n",
       "\n",
       "   product_id_55c66225-fbe7-4fd5-9072-eab1ece5e23e  \\\n",
       "0                                                0   \n",
       "1                                                0   \n",
       "2                                                0   \n",
       "3                                                0   \n",
       "4                                                0   \n",
       "\n",
       "   product_id_6c84fd89-3f11-4782-9b50-97c468b19529  \\\n",
       "0                                                0   \n",
       "1                                                0   \n",
       "2                                                0   \n",
       "3                                                0   \n",
       "4                                                0   \n",
       "\n",
       "   product_id_6d318bcc-22a3-4af6-bddd-b409bfce1546  \\\n",
       "0                                                0   \n",
       "1                                                0   \n",
       "2                                                0   \n",
       "3                                                0   \n",
       "4                                                0   \n",
       "\n",
       "   product_id_6f72dfc5-27f1-42e8-84db-ccc7a75f6969  \\\n",
       "0                                                0   \n",
       "1                                                0   \n",
       "2                                                0   \n",
       "3                                                0   \n",
       "4                                                0   \n",
       "\n",
       "   product_id_997acbb5-e102-41e1-b155-9df7de0a73f2  \\\n",
       "0                                                0   \n",
       "1                                                0   \n",
       "2                                                0   \n",
       "3                                                0   \n",
       "4                                                0   \n",
       "\n",
       "   product_id_9a0e7b09-b92b-4c41-9779-2ad22b4d779d  product_id_lyft  \\\n",
       "0                                                0                0   \n",
       "1                                                0                0   \n",
       "2                                                0                1   \n",
       "3                                                0                0   \n",
       "4                                                0                0   \n",
       "\n",
       "   product_id_lyft_line  product_id_lyft_lux  product_id_lyft_luxsuv  \\\n",
       "0                     1                    0                       0   \n",
       "1                     0                    0                       0   \n",
       "2                     0                    0                       0   \n",
       "3                     0                    0                       1   \n",
       "4                     0                    0                       0   \n",
       "\n",
       "   product_id_lyft_plus  product_id_lyft_premier  name_Black  name_Black SUV  \\\n",
       "0                     0                        0           0               0   \n",
       "1                     0                        1           0               0   \n",
       "2                     0                        0           0               0   \n",
       "3                     0                        0           0               0   \n",
       "4                     1                        0           0               0   \n",
       "\n",
       "   name_Lux  name_Lux Black  name_Lux Black XL  name_Lyft  name_Lyft XL  \\\n",
       "0         0               0                  0          0             0   \n",
       "1         1               0                  0          0             0   \n",
       "2         0               0                  0          1             0   \n",
       "3         0               0                  1          0             0   \n",
       "4         0               0                  0          0             1   \n",
       "\n",
       "   name_Shared  name_UberPool  name_UberX  name_UberXL  name_WAV  \n",
       "0            1              0           0            0         0  \n",
       "1            0              0           0            0         0  \n",
       "2            0              0           0            0         0  \n",
       "3            0              0           0            0         0  \n",
       "4            0              0           0            0         0  "
      ]
     },
     "execution_count": 96,
     "metadata": {},
     "output_type": "execute_result"
    }
   ],
   "source": [
    "#buat variabel dummy pada variabel fitur \"X\"\n",
    "\n",
    "X = pd.get_dummies(X)\n",
    "X.head()"
   ]
  },
  {
   "cell_type": "markdown",
   "id": "46ff2043",
   "metadata": {},
   "source": [
    "berdasarkan tabel diatas, dapat dilihat bahwa sudah terbentuk kolom baru untuk setiap kategori yang ada di fitur dan menetapkan 1 atau 0 untuk menunjukkan keberadaan kategori dalam data. kolom baru dibuat untuk setiap nilai yang mungkin. nilai 1 dalam kolom mewakili keberadaan level tersebut dalam data asli. lalu, langkah selanjutnya akan membuat split data."
   ]
  },
  {
   "cell_type": "markdown",
   "id": "52fad6d0",
   "metadata": {},
   "source": [
    "setelah mendefinisikan variabel X dan y pada tahap sebelumnya, kita telah mengimplementasikan train/test split menjadi 80% training dan 20% testing, selanjutnya akan masuk ke dalam model liniear regression."
   ]
  },
  {
   "cell_type": "code",
   "execution_count": 97,
   "id": "6c391829",
   "metadata": {},
   "outputs": [],
   "source": [
    "#split data menjadi 80% training dan 20% testing\n",
    "X_train, X_test, y_train, y_test = train_test_split(X, y, test_size=0.2, random_state=42)"
   ]
  },
  {
   "cell_type": "markdown",
   "id": "d55b5cfb",
   "metadata": {},
   "source": [
    "# Model Liniear Regression"
   ]
  },
  {
   "cell_type": "markdown",
   "id": "0420da38",
   "metadata": {},
   "source": [
    "bagian ini berisi cell untuk mendeﬁnisikan model."
   ]
  },
  {
   "cell_type": "code",
   "execution_count": 98,
   "id": "9caca88e",
   "metadata": {
    "scrolled": true
   },
   "outputs": [
    {
     "data": {
      "text/plain": [
       "LinearRegression()"
      ]
     },
     "execution_count": 98,
     "metadata": {},
     "output_type": "execute_result"
    }
   ],
   "source": [
    "#menentukan model klasifikasi\n",
    "model= LinearRegression()\n",
    "\n",
    "#training model\n",
    "model.fit(X_train, y_train)"
   ]
  },
  {
   "cell_type": "markdown",
   "id": "9a990aa9",
   "metadata": {},
   "source": [
    "berdasarkan output diatas, dapat dilihat bahwa model klasifikasi yang akan digunakan adalah linear regression. selanjutnya, akan dilakukan pelatihan model."
   ]
  },
  {
   "cell_type": "markdown",
   "id": "1706996f",
   "metadata": {},
   "source": [
    "# Model Training"
   ]
  },
  {
   "cell_type": "markdown",
   "id": "9a439115",
   "metadata": {},
   "source": [
    "cell pada bagian ini hanya berisi code untuk melatih model dan output yang dihasilkan."
   ]
  },
  {
   "cell_type": "code",
   "execution_count": 99,
   "id": "1a186004",
   "metadata": {
    "scrolled": true
   },
   "outputs": [
    {
     "data": {
      "text/html": [
       "<div>\n",
       "<style scoped>\n",
       "    .dataframe tbody tr th:only-of-type {\n",
       "        vertical-align: middle;\n",
       "    }\n",
       "\n",
       "    .dataframe tbody tr th {\n",
       "        vertical-align: top;\n",
       "    }\n",
       "\n",
       "    .dataframe thead th {\n",
       "        text-align: right;\n",
       "    }\n",
       "</style>\n",
       "<table border=\"1\" class=\"dataframe\">\n",
       "  <thead>\n",
       "    <tr style=\"text-align: right;\">\n",
       "      <th></th>\n",
       "      <th>distance</th>\n",
       "      <th>surge_multiplier</th>\n",
       "      <th>cab_type_Lyft</th>\n",
       "      <th>cab_type_Uber</th>\n",
       "      <th>product_id_55c66225-fbe7-4fd5-9072-eab1ece5e23e</th>\n",
       "      <th>product_id_6c84fd89-3f11-4782-9b50-97c468b19529</th>\n",
       "      <th>product_id_6d318bcc-22a3-4af6-bddd-b409bfce1546</th>\n",
       "      <th>product_id_6f72dfc5-27f1-42e8-84db-ccc7a75f6969</th>\n",
       "      <th>product_id_997acbb5-e102-41e1-b155-9df7de0a73f2</th>\n",
       "      <th>product_id_9a0e7b09-b92b-4c41-9779-2ad22b4d779d</th>\n",
       "      <th>product_id_lyft</th>\n",
       "      <th>product_id_lyft_line</th>\n",
       "      <th>product_id_lyft_lux</th>\n",
       "      <th>product_id_lyft_luxsuv</th>\n",
       "      <th>product_id_lyft_plus</th>\n",
       "      <th>product_id_lyft_premier</th>\n",
       "      <th>name_Black</th>\n",
       "      <th>name_Black SUV</th>\n",
       "      <th>name_Lux</th>\n",
       "      <th>name_Lux Black</th>\n",
       "      <th>name_Lux Black XL</th>\n",
       "      <th>name_Lyft</th>\n",
       "      <th>name_Lyft XL</th>\n",
       "      <th>name_Shared</th>\n",
       "      <th>name_UberPool</th>\n",
       "      <th>name_UberX</th>\n",
       "      <th>name_UberXL</th>\n",
       "      <th>name_WAV</th>\n",
       "      <th>predicted_price</th>\n",
       "    </tr>\n",
       "  </thead>\n",
       "  <tbody>\n",
       "    <tr>\n",
       "      <th>526491</th>\n",
       "      <td>4.51</td>\n",
       "      <td>1.0</td>\n",
       "      <td>1</td>\n",
       "      <td>0</td>\n",
       "      <td>0</td>\n",
       "      <td>0</td>\n",
       "      <td>0</td>\n",
       "      <td>0</td>\n",
       "      <td>0</td>\n",
       "      <td>0</td>\n",
       "      <td>0</td>\n",
       "      <td>1</td>\n",
       "      <td>0</td>\n",
       "      <td>0</td>\n",
       "      <td>0</td>\n",
       "      <td>0</td>\n",
       "      <td>0</td>\n",
       "      <td>0</td>\n",
       "      <td>0</td>\n",
       "      <td>0</td>\n",
       "      <td>0</td>\n",
       "      <td>0</td>\n",
       "      <td>0</td>\n",
       "      <td>1</td>\n",
       "      <td>0</td>\n",
       "      <td>0</td>\n",
       "      <td>0</td>\n",
       "      <td>0</td>\n",
       "      <td>12.529968</td>\n",
       "    </tr>\n",
       "    <tr>\n",
       "      <th>506474</th>\n",
       "      <td>2.80</td>\n",
       "      <td>1.0</td>\n",
       "      <td>0</td>\n",
       "      <td>1</td>\n",
       "      <td>0</td>\n",
       "      <td>0</td>\n",
       "      <td>0</td>\n",
       "      <td>0</td>\n",
       "      <td>0</td>\n",
       "      <td>1</td>\n",
       "      <td>0</td>\n",
       "      <td>0</td>\n",
       "      <td>0</td>\n",
       "      <td>0</td>\n",
       "      <td>0</td>\n",
       "      <td>0</td>\n",
       "      <td>0</td>\n",
       "      <td>0</td>\n",
       "      <td>0</td>\n",
       "      <td>0</td>\n",
       "      <td>0</td>\n",
       "      <td>0</td>\n",
       "      <td>0</td>\n",
       "      <td>0</td>\n",
       "      <td>0</td>\n",
       "      <td>0</td>\n",
       "      <td>0</td>\n",
       "      <td>1</td>\n",
       "      <td>11.472778</td>\n",
       "    </tr>\n",
       "    <tr>\n",
       "      <th>139551</th>\n",
       "      <td>1.09</td>\n",
       "      <td>1.0</td>\n",
       "      <td>1</td>\n",
       "      <td>0</td>\n",
       "      <td>0</td>\n",
       "      <td>0</td>\n",
       "      <td>0</td>\n",
       "      <td>0</td>\n",
       "      <td>0</td>\n",
       "      <td>0</td>\n",
       "      <td>1</td>\n",
       "      <td>0</td>\n",
       "      <td>0</td>\n",
       "      <td>0</td>\n",
       "      <td>0</td>\n",
       "      <td>0</td>\n",
       "      <td>0</td>\n",
       "      <td>0</td>\n",
       "      <td>0</td>\n",
       "      <td>0</td>\n",
       "      <td>0</td>\n",
       "      <td>1</td>\n",
       "      <td>0</td>\n",
       "      <td>0</td>\n",
       "      <td>0</td>\n",
       "      <td>0</td>\n",
       "      <td>0</td>\n",
       "      <td>0</td>\n",
       "      <td>5.853577</td>\n",
       "    </tr>\n",
       "    <tr>\n",
       "      <th>235222</th>\n",
       "      <td>0.92</td>\n",
       "      <td>1.0</td>\n",
       "      <td>0</td>\n",
       "      <td>1</td>\n",
       "      <td>0</td>\n",
       "      <td>1</td>\n",
       "      <td>0</td>\n",
       "      <td>0</td>\n",
       "      <td>0</td>\n",
       "      <td>0</td>\n",
       "      <td>0</td>\n",
       "      <td>0</td>\n",
       "      <td>0</td>\n",
       "      <td>0</td>\n",
       "      <td>0</td>\n",
       "      <td>0</td>\n",
       "      <td>1</td>\n",
       "      <td>0</td>\n",
       "      <td>0</td>\n",
       "      <td>0</td>\n",
       "      <td>0</td>\n",
       "      <td>0</td>\n",
       "      <td>0</td>\n",
       "      <td>0</td>\n",
       "      <td>0</td>\n",
       "      <td>0</td>\n",
       "      <td>0</td>\n",
       "      <td>0</td>\n",
       "      <td>16.955978</td>\n",
       "    </tr>\n",
       "    <tr>\n",
       "      <th>140436</th>\n",
       "      <td>1.12</td>\n",
       "      <td>1.0</td>\n",
       "      <td>1</td>\n",
       "      <td>0</td>\n",
       "      <td>0</td>\n",
       "      <td>0</td>\n",
       "      <td>0</td>\n",
       "      <td>0</td>\n",
       "      <td>0</td>\n",
       "      <td>0</td>\n",
       "      <td>0</td>\n",
       "      <td>0</td>\n",
       "      <td>1</td>\n",
       "      <td>0</td>\n",
       "      <td>0</td>\n",
       "      <td>0</td>\n",
       "      <td>0</td>\n",
       "      <td>0</td>\n",
       "      <td>0</td>\n",
       "      <td>1</td>\n",
       "      <td>0</td>\n",
       "      <td>0</td>\n",
       "      <td>0</td>\n",
       "      <td>0</td>\n",
       "      <td>0</td>\n",
       "      <td>0</td>\n",
       "      <td>0</td>\n",
       "      <td>0</td>\n",
       "      <td>19.382507</td>\n",
       "    </tr>\n",
       "    <tr>\n",
       "      <th>62314</th>\n",
       "      <td>5.56</td>\n",
       "      <td>1.0</td>\n",
       "      <td>0</td>\n",
       "      <td>1</td>\n",
       "      <td>0</td>\n",
       "      <td>0</td>\n",
       "      <td>0</td>\n",
       "      <td>0</td>\n",
       "      <td>0</td>\n",
       "      <td>1</td>\n",
       "      <td>0</td>\n",
       "      <td>0</td>\n",
       "      <td>0</td>\n",
       "      <td>0</td>\n",
       "      <td>0</td>\n",
       "      <td>0</td>\n",
       "      <td>0</td>\n",
       "      <td>0</td>\n",
       "      <td>0</td>\n",
       "      <td>0</td>\n",
       "      <td>0</td>\n",
       "      <td>0</td>\n",
       "      <td>0</td>\n",
       "      <td>0</td>\n",
       "      <td>0</td>\n",
       "      <td>0</td>\n",
       "      <td>0</td>\n",
       "      <td>1</td>\n",
       "      <td>19.189026</td>\n",
       "    </tr>\n",
       "    <tr>\n",
       "      <th>192444</th>\n",
       "      <td>3.40</td>\n",
       "      <td>1.0</td>\n",
       "      <td>1</td>\n",
       "      <td>0</td>\n",
       "      <td>0</td>\n",
       "      <td>0</td>\n",
       "      <td>0</td>\n",
       "      <td>0</td>\n",
       "      <td>0</td>\n",
       "      <td>0</td>\n",
       "      <td>0</td>\n",
       "      <td>0</td>\n",
       "      <td>0</td>\n",
       "      <td>0</td>\n",
       "      <td>1</td>\n",
       "      <td>0</td>\n",
       "      <td>0</td>\n",
       "      <td>0</td>\n",
       "      <td>0</td>\n",
       "      <td>0</td>\n",
       "      <td>0</td>\n",
       "      <td>0</td>\n",
       "      <td>1</td>\n",
       "      <td>0</td>\n",
       "      <td>0</td>\n",
       "      <td>0</td>\n",
       "      <td>0</td>\n",
       "      <td>0</td>\n",
       "      <td>18.020523</td>\n",
       "    </tr>\n",
       "    <tr>\n",
       "      <th>309129</th>\n",
       "      <td>0.73</td>\n",
       "      <td>1.0</td>\n",
       "      <td>1</td>\n",
       "      <td>0</td>\n",
       "      <td>0</td>\n",
       "      <td>0</td>\n",
       "      <td>0</td>\n",
       "      <td>0</td>\n",
       "      <td>0</td>\n",
       "      <td>0</td>\n",
       "      <td>0</td>\n",
       "      <td>0</td>\n",
       "      <td>0</td>\n",
       "      <td>0</td>\n",
       "      <td>0</td>\n",
       "      <td>1</td>\n",
       "      <td>0</td>\n",
       "      <td>0</td>\n",
       "      <td>1</td>\n",
       "      <td>0</td>\n",
       "      <td>0</td>\n",
       "      <td>0</td>\n",
       "      <td>0</td>\n",
       "      <td>0</td>\n",
       "      <td>0</td>\n",
       "      <td>0</td>\n",
       "      <td>0</td>\n",
       "      <td>0</td>\n",
       "      <td>13.040482</td>\n",
       "    </tr>\n",
       "    <tr>\n",
       "      <th>33575</th>\n",
       "      <td>2.45</td>\n",
       "      <td>1.0</td>\n",
       "      <td>0</td>\n",
       "      <td>1</td>\n",
       "      <td>1</td>\n",
       "      <td>0</td>\n",
       "      <td>0</td>\n",
       "      <td>0</td>\n",
       "      <td>0</td>\n",
       "      <td>0</td>\n",
       "      <td>0</td>\n",
       "      <td>0</td>\n",
       "      <td>0</td>\n",
       "      <td>0</td>\n",
       "      <td>0</td>\n",
       "      <td>0</td>\n",
       "      <td>0</td>\n",
       "      <td>0</td>\n",
       "      <td>0</td>\n",
       "      <td>0</td>\n",
       "      <td>0</td>\n",
       "      <td>0</td>\n",
       "      <td>0</td>\n",
       "      <td>0</td>\n",
       "      <td>0</td>\n",
       "      <td>1</td>\n",
       "      <td>0</td>\n",
       "      <td>0</td>\n",
       "      <td>10.504822</td>\n",
       "    </tr>\n",
       "    <tr>\n",
       "      <th>87489</th>\n",
       "      <td>2.80</td>\n",
       "      <td>1.0</td>\n",
       "      <td>0</td>\n",
       "      <td>1</td>\n",
       "      <td>0</td>\n",
       "      <td>0</td>\n",
       "      <td>1</td>\n",
       "      <td>0</td>\n",
       "      <td>0</td>\n",
       "      <td>0</td>\n",
       "      <td>0</td>\n",
       "      <td>0</td>\n",
       "      <td>0</td>\n",
       "      <td>0</td>\n",
       "      <td>0</td>\n",
       "      <td>0</td>\n",
       "      <td>0</td>\n",
       "      <td>1</td>\n",
       "      <td>0</td>\n",
       "      <td>0</td>\n",
       "      <td>0</td>\n",
       "      <td>0</td>\n",
       "      <td>0</td>\n",
       "      <td>0</td>\n",
       "      <td>0</td>\n",
       "      <td>0</td>\n",
       "      <td>0</td>\n",
       "      <td>0</td>\n",
       "      <td>31.978683</td>\n",
       "    </tr>\n",
       "  </tbody>\n",
       "</table>\n",
       "</div>"
      ],
      "text/plain": [
       "        distance  surge_multiplier  cab_type_Lyft  cab_type_Uber  \\\n",
       "526491      4.51               1.0              1              0   \n",
       "506474      2.80               1.0              0              1   \n",
       "139551      1.09               1.0              1              0   \n",
       "235222      0.92               1.0              0              1   \n",
       "140436      1.12               1.0              1              0   \n",
       "62314       5.56               1.0              0              1   \n",
       "192444      3.40               1.0              1              0   \n",
       "309129      0.73               1.0              1              0   \n",
       "33575       2.45               1.0              0              1   \n",
       "87489       2.80               1.0              0              1   \n",
       "\n",
       "        product_id_55c66225-fbe7-4fd5-9072-eab1ece5e23e  \\\n",
       "526491                                                0   \n",
       "506474                                                0   \n",
       "139551                                                0   \n",
       "235222                                                0   \n",
       "140436                                                0   \n",
       "62314                                                 0   \n",
       "192444                                                0   \n",
       "309129                                                0   \n",
       "33575                                                 1   \n",
       "87489                                                 0   \n",
       "\n",
       "        product_id_6c84fd89-3f11-4782-9b50-97c468b19529  \\\n",
       "526491                                                0   \n",
       "506474                                                0   \n",
       "139551                                                0   \n",
       "235222                                                1   \n",
       "140436                                                0   \n",
       "62314                                                 0   \n",
       "192444                                                0   \n",
       "309129                                                0   \n",
       "33575                                                 0   \n",
       "87489                                                 0   \n",
       "\n",
       "        product_id_6d318bcc-22a3-4af6-bddd-b409bfce1546  \\\n",
       "526491                                                0   \n",
       "506474                                                0   \n",
       "139551                                                0   \n",
       "235222                                                0   \n",
       "140436                                                0   \n",
       "62314                                                 0   \n",
       "192444                                                0   \n",
       "309129                                                0   \n",
       "33575                                                 0   \n",
       "87489                                                 1   \n",
       "\n",
       "        product_id_6f72dfc5-27f1-42e8-84db-ccc7a75f6969  \\\n",
       "526491                                                0   \n",
       "506474                                                0   \n",
       "139551                                                0   \n",
       "235222                                                0   \n",
       "140436                                                0   \n",
       "62314                                                 0   \n",
       "192444                                                0   \n",
       "309129                                                0   \n",
       "33575                                                 0   \n",
       "87489                                                 0   \n",
       "\n",
       "        product_id_997acbb5-e102-41e1-b155-9df7de0a73f2  \\\n",
       "526491                                                0   \n",
       "506474                                                0   \n",
       "139551                                                0   \n",
       "235222                                                0   \n",
       "140436                                                0   \n",
       "62314                                                 0   \n",
       "192444                                                0   \n",
       "309129                                                0   \n",
       "33575                                                 0   \n",
       "87489                                                 0   \n",
       "\n",
       "        product_id_9a0e7b09-b92b-4c41-9779-2ad22b4d779d  product_id_lyft  \\\n",
       "526491                                                0                0   \n",
       "506474                                                1                0   \n",
       "139551                                                0                1   \n",
       "235222                                                0                0   \n",
       "140436                                                0                0   \n",
       "62314                                                 1                0   \n",
       "192444                                                0                0   \n",
       "309129                                                0                0   \n",
       "33575                                                 0                0   \n",
       "87489                                                 0                0   \n",
       "\n",
       "        product_id_lyft_line  product_id_lyft_lux  product_id_lyft_luxsuv  \\\n",
       "526491                     1                    0                       0   \n",
       "506474                     0                    0                       0   \n",
       "139551                     0                    0                       0   \n",
       "235222                     0                    0                       0   \n",
       "140436                     0                    1                       0   \n",
       "62314                      0                    0                       0   \n",
       "192444                     0                    0                       0   \n",
       "309129                     0                    0                       0   \n",
       "33575                      0                    0                       0   \n",
       "87489                      0                    0                       0   \n",
       "\n",
       "        product_id_lyft_plus  product_id_lyft_premier  name_Black  \\\n",
       "526491                     0                        0           0   \n",
       "506474                     0                        0           0   \n",
       "139551                     0                        0           0   \n",
       "235222                     0                        0           1   \n",
       "140436                     0                        0           0   \n",
       "62314                      0                        0           0   \n",
       "192444                     1                        0           0   \n",
       "309129                     0                        1           0   \n",
       "33575                      0                        0           0   \n",
       "87489                      0                        0           0   \n",
       "\n",
       "        name_Black SUV  name_Lux  name_Lux Black  name_Lux Black XL  \\\n",
       "526491               0         0               0                  0   \n",
       "506474               0         0               0                  0   \n",
       "139551               0         0               0                  0   \n",
       "235222               0         0               0                  0   \n",
       "140436               0         0               1                  0   \n",
       "62314                0         0               0                  0   \n",
       "192444               0         0               0                  0   \n",
       "309129               0         1               0                  0   \n",
       "33575                0         0               0                  0   \n",
       "87489                1         0               0                  0   \n",
       "\n",
       "        name_Lyft  name_Lyft XL  name_Shared  name_UberPool  name_UberX  \\\n",
       "526491          0             0            1              0           0   \n",
       "506474          0             0            0              0           0   \n",
       "139551          1             0            0              0           0   \n",
       "235222          0             0            0              0           0   \n",
       "140436          0             0            0              0           0   \n",
       "62314           0             0            0              0           0   \n",
       "192444          0             1            0              0           0   \n",
       "309129          0             0            0              0           0   \n",
       "33575           0             0            0              0           1   \n",
       "87489           0             0            0              0           0   \n",
       "\n",
       "        name_UberXL  name_WAV  predicted_price  \n",
       "526491            0         0        12.529968  \n",
       "506474            0         1        11.472778  \n",
       "139551            0         0         5.853577  \n",
       "235222            0         0        16.955978  \n",
       "140436            0         0        19.382507  \n",
       "62314             0         1        19.189026  \n",
       "192444            0         0        18.020523  \n",
       "309129            0         0        13.040482  \n",
       "33575             0         0        10.504822  \n",
       "87489             0         0        31.978683  "
      ]
     },
     "execution_count": 99,
     "metadata": {},
     "output_type": "execute_result"
    }
   ],
   "source": [
    "#prediksi respon untuk dataset test\n",
    "y_pred = model.predict(X_test)\n",
    "\n",
    "#membuat hasil prediksi harga\n",
    "test = X_test.copy()\n",
    "df_test = pd.DataFrame(test)\n",
    "df_test['predicted_price'] = y_pred\n",
    "df_test.head(10)"
   ]
  },
  {
   "cell_type": "markdown",
   "id": "8067d470",
   "metadata": {},
   "source": [
    "berdasarkan tabel diatas, dapat dilihat bahwa sudah ada hasil prediksi harganya dari implementasi model linear regression. selanjutnya, akan mengevaluasi model untuk melihat nilai akurasi dan MSE dari model linear regression."
   ]
  },
  {
   "cell_type": "markdown",
   "id": "e666df66",
   "metadata": {},
   "source": [
    "# Evaluasi Model"
   ]
  },
  {
   "cell_type": "markdown",
   "id": "1ec7528b",
   "metadata": {},
   "source": [
    "pada bagian ini, dilakukan evaluasi model yang harus menunjukkan bagaimana performa model. hal ini dibuktikan dengan melihat nilai akurasi dan tingkat kesalahan model (MSE). "
   ]
  },
  {
   "cell_type": "code",
   "execution_count": 100,
   "id": "4379ce4e",
   "metadata": {
    "scrolled": false
   },
   "outputs": [
    {
     "name": "stdout",
     "output_type": "stream",
     "text": [
      "Accuracy Score: 0.9273944332679931\n",
      "Mean Squared Error: 6.329783990684473\n"
     ]
    }
   ],
   "source": [
    "#melihat nilai akurasi dan MSE\n",
    "\n",
    "print(\"Accuracy Score:\", str(model.score(X_test, y_test)))\n",
    "print(\"Mean Squared Error:\", str(mean_squared_error(y_test, y_pred)))"
   ]
  },
  {
   "cell_type": "markdown",
   "id": "c265247a",
   "metadata": {},
   "source": [
    "**interpretasi**\n",
    "\n",
    "berdasarkan output diatas, dapat dilihat bahwa model linear regression memiliki nilai akurasi yang tinggi sebesar 0.9273944332679931 atau sekitar 92.73% dengan nilai MSE sebesar 6.329783990684473 yang berarti model dapat menebak dengan benar harga jasa transportasi sebesar 92.73% kemungkinan."
   ]
  },
  {
   "cell_type": "markdown",
   "id": "409baacb",
   "metadata": {},
   "source": [
    "# Kesimpulan"
   ]
  },
  {
   "cell_type": "markdown",
   "id": "3cbbc1b2",
   "metadata": {},
   "source": [
    "jadi, dapat disimpulkan bahwa:\n",
    "1. variabel fitur cab_type, product_id, name, distance, dan surge_multiplier yang paling berpengaruh terhadap variabel target 'price'\n",
    "2. model linear regression memiliki nilai akurasi yang tinggi sebesar 0.9273944332679931 atau sekitar 92.73% dan nilai MSE sebesar 6.329783990684473 yang berarti model dapat menebak dengan benar harga jasa transportasi sebesar 92.73% kemungkinan."
   ]
  }
 ],
 "metadata": {
  "kernelspec": {
   "display_name": "Python 3 (ipykernel)",
   "language": "python",
   "name": "python3"
  },
  "language_info": {
   "codemirror_mode": {
    "name": "ipython",
    "version": 3
   },
   "file_extension": ".py",
   "mimetype": "text/x-python",
   "name": "python",
   "nbconvert_exporter": "python",
   "pygments_lexer": "ipython3",
   "version": "3.9.7"
  },
  "toc": {
   "base_numbering": 1,
   "nav_menu": {},
   "number_sections": true,
   "sideBar": true,
   "skip_h1_title": false,
   "title_cell": "Table of Contents",
   "title_sidebar": "Contents",
   "toc_cell": false,
   "toc_position": {},
   "toc_section_display": true,
   "toc_window_display": false
  }
 },
 "nbformat": 4,
 "nbformat_minor": 5
}
